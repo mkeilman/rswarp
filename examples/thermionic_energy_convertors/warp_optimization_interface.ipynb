{
 "cells": [
  {
   "cell_type": "markdown",
   "metadata": {},
   "source": [
    "# Interfacing Warp Output with DEAP\n",
    "# Work in Progress"
   ]
  },
  {
   "cell_type": "markdown",
   "metadata": {},
   "source": [
    "Using paramiko for interface with NERSC.\n",
    "\n",
    "Unresolved algorithm issues:\n",
    "    - static or dynamic mutation operator?\n",
    "    - adopt a GA approach with parent's living for one generation or go for elitist approach?\n",
    "    "
   ]
  },
  {
   "cell_type": "code",
   "execution_count": 1,
   "metadata": {
    "collapsed": true
   },
   "outputs": [],
   "source": [
    "%matplotlib notebook"
   ]
  },
  {
   "cell_type": "code",
   "execution_count": 2,
   "metadata": {
    "collapsed": true
   },
   "outputs": [],
   "source": [
    "from deap import base, creator, tools, algorithms\n",
    "from rswarp.utilities.deap_interface import create_runfiles, JobRunner\n",
    "\n",
    "import os\n",
    "import random\n",
    "import numpy as np\n",
    "import pysftp\n",
    "import matplotlib.pyplot as plt\n",
    "\n",
    "from time import sleep\n",
    "\n",
    "from mpl_toolkits.mplot3d import Axes3D\n",
    "from matplotlib import cm\n",
    "from matplotlib import animation\n",
    "import matplotlib.colors as colors"
   ]
  },
  {
   "cell_type": "markdown",
   "metadata": {},
   "source": [
    "### DEAP Setup\n"
   ]
  },
  {
   "cell_type": "markdown",
   "metadata": {},
   "source": [
    "Will seek to maximize collector efficiency -> define positive weight"
   ]
  },
  {
   "cell_type": "code",
   "execution_count": 3,
   "metadata": {
    "collapsed": true
   },
   "outputs": [],
   "source": [
    "creator.create(\"FitnessMax\", base.Fitness, weights=(1.0,))\n",
    "creator.create(\"Individual\", list, fitness=creator.FitnessMax)"
   ]
  },
  {
   "cell_type": "code",
   "execution_count": 4,
   "metadata": {
    "collapsed": true
   },
   "outputs": [],
   "source": [
    "toolbox = base.Toolbox()"
   ]
  },
  {
   "cell_type": "markdown",
   "metadata": {},
   "source": [
    "Our independent variables are parameters of the grid."
   ]
  },
  {
   "cell_type": "code",
   "execution_count": 5,
   "metadata": {
    "collapsed": true
   },
   "outputs": [],
   "source": [
    "def typed_random_value(num_range, center):\n",
    "    \"\"\"\n",
    "    Generates a list of random values. Types of each entry are determined by the type used for num_range and center.\n",
    "    The type of each entry of same index must match.\n",
    "    \n",
    "    If type is float: Returns a float on the interval (center - num_range/2, center + num_range/2)\n",
    "    If type is int: Returns an int on the interval [center - floor(num_range/2), center + floor(num_range/2)]\n",
    "    \n",
    "    :param num_range: List of ranges for random numbers, can be a mix of floats and integers.\n",
    "    :param center: List of centers for random numbers, can be a mix of floats and integers.\n",
    "    :yield: Next entry in list of random numbers\n",
    "    \"\"\"\n",
    "    assert len(num_range) == len(center)\n",
    "    \n",
    "    for range_val, center_val in zip(num_range, center):\n",
    "        assert type(range_val) == type(center_val)\n",
    "        \n",
    "        if type(range_val) == float:\n",
    "            rand = (random.random() - 0.5) * range_val + center_val\n",
    "        if type(range_val) == int:\n",
    "            rand = random.randint(center_val - range_val / 2, center_val + range_val / 2)\n",
    "        yield rand\n"
   ]
  },
  {
   "cell_type": "code",
   "execution_count": 6,
   "metadata": {
    "collapsed": true
   },
   "outputs": [],
   "source": [
    "# Test numbers\n",
    "num_ranges = [8, 8, 19.5, 940e-9, 9e-9, 49e-9]\n",
    "centra = [5, 5, 19.5 / 2., 940e-9 / 2., 4.5e-9, 24.5e-9]\n",
    "\n",
    "toolbox.register(\"attr_rand\", typed_random_value, num_ranges, centra)"
   ]
  },
  {
   "cell_type": "code",
   "execution_count": 7,
   "metadata": {},
   "outputs": [
    {
     "name": "stdout",
     "output_type": "stream",
     "text": [
      "7\n",
      "7\n",
      "11.7497838776\n",
      "9.26880827894e-07\n",
      "2.47091983438e-09\n",
      "2.34591693384e-08\n"
     ]
    }
   ],
   "source": [
    "# Test case\n",
    "for i in toolbox.attr_rand():\n",
    "    print i"
   ]
  },
  {
   "cell_type": "markdown",
   "metadata": {},
   "source": [
    "Define how an `individual` is created"
   ]
  },
  {
   "cell_type": "code",
   "execution_count": 8,
   "metadata": {},
   "outputs": [
    {
     "name": "stdout",
     "output_type": "stream",
     "text": [
      "Example individual: [4, 9, 0.2296353183462827, 6.240497378296145e-07, 3.6007164250251166e-09, 4.4143373671631724e-08]\n"
     ]
    }
   ],
   "source": [
    "# Generator function to pass to toolbox\n",
    "def initYield(container, func):\n",
    "    \"\"\"\n",
    "    Call the function *container* with function *func* that returns a \n",
    "    generator object to populate container.\n",
    "    \"\"\"\n",
    "    return container(i for i in func())\n",
    "\n",
    "toolbox.register(\"individual\", initYield, creator.Individual, toolbox.attr_rand)\n",
    "\n",
    "# Test call\n",
    "print \"Example individual:\", toolbox.individual()"
   ]
  },
  {
   "cell_type": "markdown",
   "metadata": {},
   "source": [
    "Definition for the `population` of `individuals`.\n"
   ]
  },
  {
   "cell_type": "code",
   "execution_count": 9,
   "metadata": {},
   "outputs": [
    {
     "name": "stdout",
     "output_type": "stream",
     "text": [
      "Example population with 2 individuals:\n",
      "[[2, 2, 17.133225444762317, 9.979557855334887e-08, 2.375471209223548e-09, 3.51402011704093e-08], [1, 7, 3.690727525219569, 1.435509305984244e-07, 8.799834830690405e-10, 5.93970509822801e-09]]\n"
     ]
    }
   ],
   "source": [
    "toolbox.register(\"population\", tools.initRepeat, list, toolbox.individual)\n",
    "print \"Example population with 2 individuals:\\n\", toolbox.population(n=2)"
   ]
  },
  {
   "cell_type": "markdown",
   "metadata": {},
   "source": [
    "## Interface Test\n",
    "Manual Step-by-Step test of passing back and forth to Cori (or Edison)"
   ]
  },
  {
   "cell_type": "markdown",
   "metadata": {},
   "source": [
    "Small population for testing"
   ]
  },
  {
   "cell_type": "code",
   "execution_count": 10,
   "metadata": {
    "collapsed": true
   },
   "outputs": [],
   "source": [
    "test_pop = toolbox.population(n=15)"
   ]
  },
  {
   "cell_type": "markdown",
   "metadata": {},
   "source": [
    "### Batch Script Template"
   ]
  },
  {
   "cell_type": "code",
   "execution_count": 11,
   "metadata": {
    "collapsed": true
   },
   "outputs": [],
   "source": [
    "edison_batch_header = \"\"\"#!/bin/bash -l\n",
    "#SBATCH -p {queue} \n",
    "#SBATCH -N {nodes} \n",
    "#SBATCH -t {time}\n",
    "#SBATCH -A m2783\n",
    "#SBATCH -J {job}\n",
    "\n",
    "export mydir=\"{base_directory}\"\n",
    "\n",
    "mkdir -p $mydir\n",
    "\n",
    "cd $SLURM_SUBMIT_DIR\n",
    "\n",
    "cp ./* $mydir/.\n",
    "cd $mydir\n",
    "\"\"\"\n",
    "\n",
    "edison_batch_srun = \"\"\"srun -N 1 -n 24 -c 2 --cpu_bind=cores python-mpi {warp_file} {parameters} -p 1 1 24 &\n",
    "\"\"\"\n",
    "\n",
    "edison_batch_tail = \"\"\"wait\n",
    "echo 0 >> COMPLETE\"\"\"\n"
   ]
  },
  {
   "cell_type": "markdown",
   "metadata": {},
   "source": [
    "Create local copy of batch file"
   ]
  },
  {
   "cell_type": "code",
   "execution_count": 12,
   "metadata": {
    "collapsed": true
   },
   "outputs": [],
   "source": [
    "cori_scratch_path = '/global/cscratch1/sd/hallcc'\n",
    "edison_scratch_path = '/scratch2/scratchdirs/hallcc'\n",
    "batch_instructions = {\n",
    "    'queue': 'debug',\n",
    "    'nodes': len(test_pop),\n",
    "    'time': '02:00:00',\n",
    "    'job': 'generation_0',\n",
    "    'warp_file': 'run_grid_edison.py',\n",
    "    'base_directory': os.path.join(edison_scratch_path, 'run_0')\n",
    "}\n",
    "local_batch_file = 'run_file/eaTest_edison_trial0'\n",
    "local_save_directory = '/run0_data'\n",
    "remote_output_directory = batch_instructions['base_directory']\n",
    "\n",
    "create_runfiles(test_pop, local_batch_file, batch_instructions=batch_instructions,\n",
    "               run_header=edison_batch_header, run_command=edison_batch_srun, run_tail=edison_batch_tail)"
   ]
  },
  {
   "cell_type": "markdown",
   "metadata": {},
   "source": [
    "Create JobRunner instance which will facilitate communication"
   ]
  },
  {
   "cell_type": "code",
   "execution_count": 13,
   "metadata": {
    "collapsed": true
   },
   "outputs": [],
   "source": [
    "server = 'edison.nersc.gov'\n",
    "username = 'hallcc'\n",
    "runner = JobRunner(server, username)"
   ]
  },
  {
   "cell_type": "markdown",
   "metadata": {},
   "source": [
    "Upload Batch file to NERSC"
   ]
  },
  {
   "cell_type": "code",
   "execution_count": 14,
   "metadata": {},
   "outputs": [
    {
     "name": "stdout",
     "output_type": "stream",
     "text": [
      "SSH Client is live\n",
      "run_file/eaTest_edison_trial0 Uploaded\n",
      "SFTP Connection Closed\n"
     ]
    }
   ],
   "source": [
    "remote_directory = 'edison_runner_upload/'\n",
    "\n",
    "runner.upload_batch_file(remote_directory, local_batch_file)"
   ]
  },
  {
   "cell_type": "markdown",
   "metadata": {},
   "source": [
    "# Start remote job"
   ]
  },
  {
   "cell_type": "markdown",
   "metadata": {},
   "source": [
    " `JobRunner.start_job` used to initiate the job through SLURM on server"
   ]
  },
  {
   "cell_type": "code",
   "execution_count": 15,
   "metadata": {},
   "outputs": [
    {
     "name": "stdout",
     "output_type": "stream",
     "text": [
      "SSH Client is live\n",
      "Starting batch file: eaTest_edison_trial0 in directory edison_runner_upload\n",
      "Contents of job directory: eaTest_edison_trial0\n",
      "eaTest_edison_trial0~\n",
      "run_grid_edison.py\n",
      "run_grid_edison.py~\n",
      "\n",
      "\n",
      "jobid: 7194990\n",
      "project directory: edison_runner_upload\n"
     ]
    }
   ],
   "source": [
    "remote_batch_path = os.path.join(remote_directory, os.path.split(local_batch_file)[1])\n",
    "runner.start_job(remote_batch_path)\n",
    "\n",
    "print\n",
    "print \"jobid:\", runner.jobid\n",
    "print \"project directory:\", runner.project_directory"
   ]
  },
  {
   "cell_type": "markdown",
   "metadata": {},
   "source": [
    "`JobRunner.check_job_status` can be called independently to check the status of a job\n",
    "Will return:\n",
    "\n",
    "- 1: Job underway but not complete\n",
    "- -1: Critical failure occured \n",
    "- 0: Job successfully complete"
   ]
  },
  {
   "cell_type": "code",
   "execution_count": 16,
   "metadata": {},
   "outputs": [
    {
     "name": "stdout",
     "output_type": "stream",
     "text": [
      "SSH Client is live\n",
      "Mon Sep 18 13:41:51 2017: Job active but not complete\n"
     ]
    },
    {
     "data": {
      "text/plain": [
       "1"
      ]
     },
     "execution_count": 16,
     "metadata": {},
     "output_type": "execute_result"
    }
   ],
   "source": [
    "runner.check_job_status(output_directory=remote_output_directory)"
   ]
  },
  {
   "cell_type": "markdown",
   "metadata": {},
   "source": [
    "The method `JoberRunner.evaluate_fitness` is designed to be called by the EA optimizer for each generation. It uses `JobRunner.check_job_status` internally but also will handle downloading the final fitness results on successful job completion."
   ]
  },
  {
   "cell_type": "code",
   "execution_count": 17,
   "metadata": {},
   "outputs": [
    {
     "name": "stdout",
     "output_type": "stream",
     "text": [
      "SSH Client is live\n",
      "Mon Sep 18 13:52:28 2017: Job active but not complete\n",
      "SSH Client is live\n",
      "Mon Sep 18 13:57:35 2017: Job active but not complete\n",
      "SSH Client is live\n",
      "Mon Sep 18 14:02:41 2017: Job active but not complete\n",
      "SSH Client is live\n",
      "Mon Sep 18 14:07:48 2017: Job active but not complete\n",
      "SSH Client is live\n",
      "Mon Sep 18 14:12:55 2017: Job active but not complete\n",
      "SSH Client is live\n",
      "Mon Sep 18 14:18:01 2017: Job active but not complete\n",
      "SSH Client is live\n",
      "Mon Sep 18 14:23:08 2017: Job active but not complete\n",
      "SSH Client is live\n",
      "Mon Sep 18 14:28:15 2017: Job active but not complete\n",
      "SSH Client is live\n",
      "Mon Sep 18 14:33:22 2017: Job active but not complete\n",
      "SSH Client is live\n",
      "Mon Sep 18 14:38:30 2017: Job active but not complete\n",
      "SSH Client is live\n",
      "Mon Sep 18 14:43:37 2017: Job active but not complete\n",
      "SSH Client is live\n",
      "Mon Sep 18 14:48:44 2017: Job active but not complete\n",
      "SSH Client is live\n",
      "Mon Sep 18 14:53:50 2017: Job active but not complete\n",
      "SSH Client is live\n",
      "Mon Sep 18 14:58:57 2017: Job active but not complete\n",
      "SSH Client is live\n",
      "Mon Sep 18 15:04:03 2017: Job active but not complete\n",
      "SSH Client is live\n",
      "Mon Sep 18 15:09:11 2017: Job active but not complete\n",
      "SSH Client is live\n",
      "Mon Sep 18 15:14:18 2017: Job active but not complete\n",
      "SSH Client is live\n",
      "Mon Sep 18 15:19:25 2017: Job active but not complete\n",
      "SSH Client is live\n",
      "Mon Sep 18 15:24:31 2017: Job active but not complete\n",
      "SSH Client is live\n",
      "Mon Sep 18 15:29:38 2017: Job active but not complete\n",
      "SSH Client is live\n",
      "Mon Sep 18 15:34:45 2017: Job active but not complete\n",
      "SSH Client is live\n",
      "FOUND COMPLETE\n"
     ]
    },
    {
     "data": {
      "text/plain": [
       "-1"
      ]
     },
     "execution_count": 17,
     "metadata": {},
     "output_type": "execute_result"
    }
   ],
   "source": [
    "runner.evaluate_fitness(120 * 60, remote_output_directory=remote_output_directory, local_directory='/run0_out')"
   ]
  },
  {
   "cell_type": "markdown",
   "metadata": {},
   "source": [
    "## Interface Tools"
   ]
  },
  {
   "cell_type": "markdown",
   "metadata": {},
   "source": [
    "Functions for interfacing Warp I/O with DEAP environment"
   ]
  },
  {
   "cell_type": "markdown",
   "metadata": {},
   "source": [
    "Define the function for evaluating an individual's fitness.\n",
    "\n",
    "Define the operation for mating two individuals.\n",
    "\n",
    "Define a mutation algorithm.\n",
    "\n",
    "Define a selection routine for choosing among the fittest individuals."
   ]
  },
  {
   "cell_type": "markdown",
   "metadata": {},
   "source": [
    "### ea Implementation Continues"
   ]
  },
  {
   "cell_type": "code",
   "execution_count": null,
   "metadata": {
    "collapsed": true
   },
   "outputs": [],
   "source": [
    "toolbox.register(\"evaluate\", evalFitnessRastrigin)\n",
    "    \n",
    "toolbox.register(\"mate\", tools.cxTwoPoint)\n",
    "\n",
    "# TODO: Either change mutation algorithm or fix numbers for Guassian\n",
    "mu = 0.\n",
    "sigma = 0.5\n",
    "indpb = 0.33\n",
    "toolbox.register(\"mutate\", tools.mutGaussian, mu=mu, sigma=sigma, indpb=indpb)\n",
    "\n",
    "toolbox.register(\"select\", tools.selTournament, tournsize=3)"
   ]
  },
  {
   "cell_type": "markdown",
   "metadata": {},
   "source": [
    "The control function.\n",
    "This uses the pre-defined algorithm `eaSimple`.\n",
    "Statistics for the run may be passed out of the algorithm during runtime using `tools.statistics` to define the class `stat`.\n",
    "Here we pass out each generation of the population for full post-processing after the algorithm completes. "
   ]
  },
  {
   "cell_type": "code",
   "execution_count": null,
   "metadata": {
    "collapsed": true
   },
   "outputs": [],
   "source": [
    "def eaSimpleWarp(population, toolbox, cxpb, mutpb, ngen, filename, stats=None,\n",
    "             halloffame=None, verbose=__debug__, labels=None):\n",
    "    \"\"\"This algorithm reproduce the simplest evolutionary algorithm as\n",
    "    presented in chapter 7 of [Back2000]_.\n",
    "\n",
    "    :param population: A list of individuals.\n",
    "    :param toolbox: A :class:`~deap.base.Toolbox` that contains the evolution\n",
    "                    operators.\n",
    "    :param cxpb: The probability of mating two individuals.\n",
    "    :param mutpb: The probability of mutating an individual.\n",
    "    :param ngen: The number of generation.\n",
    "    :param stats: A :class:`~deap.tools.Statistics` object that is updated\n",
    "                  inplace, optional.\n",
    "    :param halloffame: A :class:`~deap.tools.HallOfFame` object that will\n",
    "                       contain the best individuals, optional.\n",
    "    :param verbose: Whether or not to log the statistics.\n",
    "    :returns: The final population\n",
    "    :returns: A class:`~deap.tools.Logbook` with the statistics of the\n",
    "              evolution\n",
    "\n",
    "    The algorithm takes in a population and evolves it in place using the\n",
    "    :meth:`varAnd` method. It returns the optimized population and a\n",
    "    :class:`~deap.tools.Logbook` with the statistics of the evolution. The\n",
    "    logbook will contain the generation number, the number of evalutions for\n",
    "    each generation and the statistics if a :class:`~deap.tools.Statistics` is\n",
    "    given as argument. The *cxpb* and *mutpb* arguments are passed to the\n",
    "    :func:`varAnd` function. The pseudocode goes as follow ::\n",
    "\n",
    "        evaluate(population)\n",
    "        for g in range(ngen):\n",
    "            population = select(population, len(population))\n",
    "            offspring = varAnd(population, toolbox, cxpb, mutpb)\n",
    "            evaluate(offspring)\n",
    "            population = offspring\n",
    "\n",
    "    As stated in the pseudocode above, the algorithm goes as follow. First, it\n",
    "    evaluates the individuals with an invalid fitness. Second, it enters the\n",
    "    generational loop where the selection procedure is applied to entirely\n",
    "    replace the parental population. The 1:1 replacement ratio of this\n",
    "    algorithm **requires** the selection procedure to be stochastic and to\n",
    "    select multiple times the same individual, for example,\n",
    "    :func:`~deap.tools.selTournament` and :func:`~deap.tools.selRoulette`.\n",
    "    Third, it applies the :func:`varAnd` function to produce the next\n",
    "    generation population. Fourth, it evaluates the new individuals and\n",
    "    compute the statistics on this population. Finally, when *ngen*\n",
    "    generations are done, the algorithm returns a tuple with the final\n",
    "    population and a :class:`~deap.tools.Logbook` of the evolution.\n",
    "\n",
    "    .. note::\n",
    "\n",
    "        Using a non-stochastic selection method will result in no selection as\n",
    "        the operator selects *n* individuals from a pool of *n*.\n",
    "\n",
    "    This function expects the :meth:`toolbox.mate`, :meth:`toolbox.mutate`,\n",
    "    :meth:`toolbox.select` and :meth:`toolbox.evaluate` aliases to be\n",
    "    registered in the toolbox.\n",
    "\n",
    "    .. [Back2000] Back, Fogel and Michalewicz, \"Evolutionary Computation 1 :\n",
    "       Basic Algorithms and Operators\", 2000.\n",
    "    \"\"\"\n",
    "    logbook = tools.Logbook()\n",
    "    logbook.header = ['gen', 'nevals'] + (stats.fields if stats else [])\n",
    "\n",
    "    # Evaluate the individuals with an invalid fitness\n",
    "    # TODO: Change fitness evaluation to operate on the population not on individuals\n",
    "    # TODO because all fitnesses are returned from WARP we need to pass all to the batch script simulatneously\n",
    "    # TODO and then wait.\n",
    "    # generate_fitnesses(population, toolbox)\n",
    "    \n",
    "    # Find which individuals have no fitness assigned (probably all of them here)\n",
    "    invalid_ind = [ind for ind in population if not ind.fitness.valid]\n",
    "    # Evaluate unknown fitnesses\n",
    "    fitnesses = toolbox.evaluate(invalid_ind)\n",
    "    # Assign new fitness values to the individuals\n",
    "    for ind, fit in zip(invalid_ind, fitnesses):\n",
    "        ind.fitness.values = fit\n",
    "    # Update HoF\n",
    "    if halloffame is not None:\n",
    "        halloffame.update(population)\n",
    "    \n",
    "    save_data(filename, population, generation=0, labels=None)\n",
    "    record = stats.compile(population) if stats else {}\n",
    "    logbook.record(gen=0, nevals=len(invalid_ind), **record)\n",
    "    if verbose:\n",
    "        print logbook.stream\n",
    "\n",
    "    # Begin the generational process\n",
    "    for gen in range(1, ngen + 1):\n",
    "        # Select the next generation individuals\n",
    "        offspring = toolbox.select(population, len(population))\n",
    "\n",
    "        # Vary the pool of individuals\n",
    "        offspring = varAnd(offspring, toolbox, cxpb, mutpb)\n",
    "\n",
    "        # TODO: Fitness evaluation must be changed as described above\n",
    "        # Evaluate the individuals with an invalid fitness\n",
    "        invalid_ind = [ind for ind in offspring if not ind.fitness.valid]\n",
    "        fitnesses = toolbox.evaluate(invalid_ind)\n",
    "        for ind, fit in zip(invalid_ind, fitnesses):\n",
    "            ind.fitness.values = fit\n",
    "\n",
    "        # Update the hall of fame with the generated individuals\n",
    "        if halloffame is not None:\n",
    "            halloffame.update(offspring)\n",
    "            \n",
    "        # Replace the current population by the offspring\n",
    "        population[:] = offspring\n",
    "        \n",
    "        # Append the current generation statistics to the logbook and save data file\n",
    "        save_data(filename, population, generation=gen, labels=None)\n",
    "        record = stats.compile(population) if stats else {}\n",
    "        logbook.record(gen=gen, nevals=len(invalid_ind), **record)\n",
    "        if verbose:\n",
    "            print logbook.stream\n",
    "\n",
    "    return population, logbook\n"
   ]
  },
  {
   "cell_type": "code",
   "execution_count": null,
   "metadata": {
    "collapsed": true
   },
   "outputs": [],
   "source": [
    "def main():\n",
    "    \n",
    "    pop = toolbox.population(n=100)\n",
    "    hof = tools.HallOfFame(1)\n",
    "    \n",
    "#     stats = tools.Statistics(lambda ind: ind.fitness.values)\n",
    "#     stats.register(\"avg\", np.mean)\n",
    "#     stats.register(\"min\", np.min)\n",
    "#     stats.register(\"max\", np.max)   \n",
    "    stats = tools.Statistics(lambda ind: ind)\n",
    "    stats.register(\"avg\", np.array)\n",
    "    if opt_func == 'rastrigin':\n",
    "        gen_n = 200\n",
    "    elif opt_func == 'beale':\n",
    "        gen_n = 15\n",
    "    else:\n",
    "        print \"Function options are: rastrigin or beale\"\n",
    "    \n",
    "    pop, logbook = algorithms.eaSimple(pop, toolbox, cxpb=0.5, mutpb=0.2, ngen=gen_n, stats=stats, halloffame=hof, verbose=False)\n",
    "    \n",
    "    return pop, logbook, hof"
   ]
  },
  {
   "cell_type": "code",
   "execution_count": null,
   "metadata": {
    "collapsed": true
   },
   "outputs": [],
   "source": [
    "if __name__ == \"__main__\":\n",
    "    pop, log, hof = main()\n",
    "    print(\"Best individual is: %s\\nwith fitness: %s\" % (hof[0], hof[0].fitness))"
   ]
  },
  {
   "cell_type": "markdown",
   "metadata": {},
   "source": [
    "### Post-Processing"
   ]
  },
  {
   "cell_type": "code",
   "execution_count": null,
   "metadata": {
    "collapsed": true
   },
   "outputs": [],
   "source": [
    "# Visualizing the last generation on a contour plot of Beale's function.\n",
    "\n",
    "fig1 = plt.figure(figsize=(6, 6))\n",
    "ax = fig1.gca(projection='3d')\n",
    "\n",
    "if opt_func == 'rastrigin':\n",
    "    func_name = 'Rastrigin'\n",
    "    X = np.arange(-1.5, 1.5, 0.001)\n",
    "    Y = np.arange(-1.5, 1.5, 0.001)\n",
    "    X, Y = np.meshgrid(X, Y)\n",
    "    Z = rastrigin(X, Y)\n",
    "elif opt_func == 'beale':\n",
    "    func_name = 'Beale'\n",
    "    X = np.arange(-4., 4., 0.01)\n",
    "    Y = np.arange(-4., 4., 0.01)\n",
    "    X, Y = np.meshgrid(X, Y)\n",
    "    Z = beale(X, Y)\n",
    "else:\n",
    "    print \"Function options are: rastrigin or beale\"\n",
    "\n",
    "ax.plot_surface(X,Y,Z, \n",
    "                cmap=cm.coolwarm, \n",
    "                norm=colors.LogNorm(),\n",
    "                alpha=0.35)\n",
    "\n",
    "test_dataset = log[-1]['avg']\n",
    "def col_beal(dat):\n",
    "    return beale(dat[:, 0], dat[:, 1])\n",
    "\n",
    "ax.scatter(test_dataset[:, 0], test_dataset[:, 1], col_beal(test_dataset), c='g')\n",
    "ax.view_init(25, 2.5)\n",
    "\n",
    "ax.set_xlabel('x')\n",
    "ax.set_ylabel('y')\n",
    "ax.set_zlabel('f(x,y)')\n",
    "ax.set_title('{}\\'s Function\\n Final Result'.format(func_name))\n",
    "plt.show()"
   ]
  },
  {
   "cell_type": "code",
   "execution_count": null,
   "metadata": {
    "collapsed": true
   },
   "outputs": [],
   "source": [
    "# Create a movie of all generations. \n",
    "\n",
    "fig1 = plt.figure(figsize=(6, 6))\n",
    "ax = fig1.gca(projection='3d')\n",
    "\n",
    "if opt_func == 'rastrigin':\n",
    "    func_name = 'Rastrigin'\n",
    "    X = np.arange(-1.5, 1.5, 0.001)\n",
    "    Y = np.arange(-1.5, 1.5, 0.001)\n",
    "    X, Y = np.meshgrid(X, Y)\n",
    "    Z = rastrigin(X, Y)\n",
    "    # Set bounds for Rastrigin since we are constricting the surface plot bounds\n",
    "    ax.set_xlim(-1.5, 1.5)\n",
    "    ax.set_ylim(-1.5, 1.5)\n",
    "elif opt_func == 'beale':\n",
    "    func_name = 'Beale'\n",
    "    X = np.arange(-4., 4., 0.01)\n",
    "    Y = np.arange(-4., 4., 0.01)\n",
    "    X, Y = np.meshgrid(X, Y)\n",
    "    Z = beale(X, Y)\n",
    "else:\n",
    "    print \"Function options are: rastrigin or beale\"\n",
    "\n",
    "ax.plot_surface(X,Y,Z, \n",
    "                cmap=cm.coolwarm, \n",
    "                norm=colors.LogNorm(),\n",
    "                alpha=0.6)\n",
    "ax.view_init(25, 2.5)\n",
    "\n",
    "lives = []\n",
    "\n",
    "def col_beal(dat):\n",
    "    return beale(dat[:, 0], dat[:, 1])\n",
    "for i in range(len(log)):\n",
    "    population_data = log[i]['avg']\n",
    "    best_fit = np.min(col_beal(population_data))\n",
    "    best_fit_individual = population_data[np.argmin(col_beal(population_data))]\n",
    "    pl = ax.scatter(population_data[:, 0], population_data[:, 1], col_beal(population_data), c='g')\n",
    "    gen_tex = ax.annotate('Generation = {}\\nBest Individual: {}\\nFitness = {}'.format(i, best_fit_individual, best_fit), \n",
    "                          fontsize=12, xy=(0., 0.85), xycoords='axes fraction')\n",
    "    lives.append([pl, gen_tex])\n",
    "\n",
    "\n",
    "ax.set_xlabel('x')\n",
    "ax.set_ylabel('y')\n",
    "ax.set_zlabel('f(x,y)')\n",
    "ax.set_title('\\nOptimization of {}\\'s Function\\n'.format(func_name) )\n",
    "\n",
    "im_animation = animation.ArtistAnimation(fig1, lives, interval=450)\n",
    "# im_animation.save('simple_beale_go.mp4', fps=3, dpi=300)\n",
    "\n",
    "plt.show()"
   ]
  },
  {
   "cell_type": "code",
   "execution_count": null,
   "metadata": {
    "collapsed": true
   },
   "outputs": [],
   "source": []
  },
  {
   "cell_type": "code",
   "execution_count": null,
   "metadata": {
    "collapsed": true
   },
   "outputs": [],
   "source": []
  }
 ],
 "metadata": {
  "kernelspec": {
   "display_name": "Python 2",
   "language": "python",
   "name": "python2"
  },
  "language_info": {
   "codemirror_mode": {
    "name": "ipython",
    "version": 2
   },
   "file_extension": ".py",
   "mimetype": "text/x-python",
   "name": "python",
   "nbconvert_exporter": "python",
   "pygments_lexer": "ipython2",
   "version": "2.7.13"
  }
 },
 "nbformat": 4,
 "nbformat_minor": 2
}
