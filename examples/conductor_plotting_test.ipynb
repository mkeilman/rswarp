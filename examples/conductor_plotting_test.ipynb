{
 "cells": [
  {
   "cell_type": "markdown",
   "metadata": {},
   "source": [
    "# Create Function to Plot Conductors\n",
    "Need to grab conductor data from Warp instance or pickle'd data and automatically plot conductors."
   ]
  },
  {
   "cell_type": "code",
   "execution_count": 1,
   "metadata": {
    "collapsed": true
   },
   "outputs": [],
   "source": [
    "% matplotlib notebook"
   ]
  },
  {
   "cell_type": "code",
   "execution_count": 2,
   "metadata": {},
   "outputs": [
    {
     "name": "stdout",
     "output_type": "stream",
     "text": [
      "# Warp\n",
      "# Origin date: Wed, 5 Apr 2017 19:58:44 +0000\n",
      "# Local date: Wed, 5 Apr 2017 19:58:44 +0000\n",
      "# Commit hash: 10722e8\n",
      "# /usr/local/lib/python2.7/site-packages/warp/warp.pyc\n",
      "# /usr/local/lib/python2.7/site-packages/warp/warpC.so\n",
      "# Wed Apr 26 14:58:46 2017\n",
      "# import warp time 0.295454025269 seconds\n",
      "# For more help, type warphelp()\n"
     ]
    }
   ],
   "source": [
    "from __future__ import division\n",
    "import sys\n",
    "import time\n",
    "del sys.argv[1:] #  Necessry to run 'from warp import *' in IPython notebook without conflict.\n",
    "from warp import * \n",
    "import numpy as np\n",
    "import matplotlib.pyplot as plt\n",
    "import os\n",
    "import pickle\n",
    "from re import findall\n",
    "from datetime import datetime\n",
    "from scipy.special import erfinv\n",
    "from warp.data_dumping.openpmd_diag import ParticleDiagnostic\n",
    "from rswarp.diagnostics import FieldDiagnostic\n",
    "from rswarp.utilities.file_utils import cleanupPrevious\n",
    "from warp.particles.singleparticle import TraceParticle"
   ]
  },
  {
   "cell_type": "code",
   "execution_count": 3,
   "metadata": {
    "collapsed": true
   },
   "outputs": [],
   "source": [
    "# Plotting imports\n",
    "import matplotlib.animation as anim\n",
    "import matplotlib.lines as mlines\n",
    "import types\n",
    "import matplotlib as mpl\n",
    "from matplotlib import gridspec\n",
    "import matplotlib.patches as patches\n",
    "import h5py\n",
    "\n",
    "# Constants imports\n",
    "from scipy.constants import e, m_e, c, k\n",
    "kb_eV = 8.6173324e-5 #Bolztmann constant in eV/K\n",
    "kb_J = k #Boltzmann constant in J/K\n",
    "m = m_e"
   ]
  },
  {
   "cell_type": "markdown",
   "metadata": {},
   "source": [
    "# Diagnostic Directories"
   ]
  },
  {
   "cell_type": "code",
   "execution_count": 4,
   "metadata": {
    "collapsed": true
   },
   "outputs": [],
   "source": [
    "diagDir = 'diags/xzsolver/hdf5'\n",
    "field_base_path = 'diags/fields/'\n",
    "child0_cathode_dir = 'diags/fields/child0_cathode'\n",
    "child0_anode_dir = 'diags/fields/child0_anode'\n",
    "diagFDir = {'magnetic': field_base_path + 'magnetic','electric':field_base_path + 'electric', \n",
    "            'child0_cathode': child0_cathode_dir, 'child0_anode': child0_anode_dir}\n",
    "\n",
    "# Cleanup previous files\n",
    "cleanupPrevious(diagDir,diagFDir)"
   ]
  },
  {
   "cell_type": "markdown",
   "metadata": {},
   "source": [
    "# Grid Parameters"
   ]
  },
  {
   "cell_type": "code",
   "execution_count": 5,
   "metadata": {},
   "outputs": [
    {
     "name": "stdout",
     "output_type": "stream",
     "text": [
      "Cells along X: 100\n",
      "\u000b",
      " Cell size X: 1000.0 nm\n",
      "Cells along Z: 100\n",
      "\u000b",
      " Cell size Z: 1000.0 nm\n"
     ]
    }
   ],
   "source": [
    "#GLOBAL USER PARAMETERS\n",
    "\n",
    "#Injection strategy\n",
    "top.inject = 0               # 1 means constant; 2 means space-charge limited injection; 4 means thermionic;\n",
    "                             # 6 means user-specified; 5 and 8 are balances between thermionic and SC-limited\n",
    "\n",
    "\n",
    "GRID_VOLTAGE = 60.0\n",
    "ANODE_VOLTAGE = 0.\n",
    "GRID_VOLTAGE_0 = -2.0\n",
    "\n",
    "#Dimensions\n",
    "PLATE_SPACING = 100e-6 #plate spacing\n",
    "CHANNEL_WIDTH = 100e-6 #width of simulation box\n",
    "\n",
    "X_MAX = CHANNEL_WIDTH*0.5\n",
    "X_MIN = -1.*X_MAX\n",
    "Y_MAX = CHANNEL_WIDTH*0.5\n",
    "Y_MIN = -1.*Y_MAX\n",
    "Z_MIN = 0.\n",
    "Z_MAX = PLATE_SPACING\n",
    "\n",
    "# Grid parameters (Parent Grid)\n",
    "NUM_X = 100 \n",
    "NUM_Y = 1\n",
    "NUM_Z = 100 \n",
    "\n",
    "print(\"Cells along X: {}\\n\\v Cell size X: {} nm\".format(NUM_X,CHANNEL_WIDTH / NUM_X * 1e9))\n",
    "print(\"Cells along Z: {}\\n\\v Cell size Z: {} nm\".format(NUM_Z,PLATE_SPACING / NUM_Z * 1e9))"
   ]
  },
  {
   "cell_type": "markdown",
   "metadata": {},
   "source": [
    "# Solver Geometry"
   ]
  },
  {
   "cell_type": "code",
   "execution_count": 6,
   "metadata": {
    "collapsed": true
   },
   "outputs": [],
   "source": [
    "w3d.solvergeom = w3d.XZgeom"
   ]
  },
  {
   "cell_type": "markdown",
   "metadata": {},
   "source": [
    "# Grid and Boundary Conditions"
   ]
  },
  {
   "cell_type": "code",
   "execution_count": 7,
   "metadata": {
    "collapsed": true
   },
   "outputs": [],
   "source": [
    "# Set boundary conditions\n",
    "# Longitudinal conditions overriden by conducting plates\n",
    "w3d.bound0  = neumann\n",
    "w3d.boundnz = dirichlet\n",
    "w3d.boundxy = periodic \n",
    "# Particles boundary conditions\n",
    "top.pbound0  = absorb\n",
    "top.pboundnz = absorb\n",
    "top.pboundxy = periodic\n",
    "\n",
    "# Set grid boundaries\n",
    "w3d.xmmin = X_MIN\n",
    "w3d.xmmax = X_MAX\n",
    "w3d.ymmin = Y_MIN\n",
    "w3d.ymmax = Y_MAX\n",
    "w3d.zmmin = 0. \n",
    "w3d.zmmax = Z_MAX\n",
    "\n",
    "# Set grid counts\n",
    "w3d.nx = NUM_X\n",
    "w3d.ny = NUM_Y\n",
    "w3d.nz = NUM_Z\n",
    "\n",
    "zmesh = np.linspace(0,Z_MAX,NUM_Z+1) #holds the z-axis grid points in an array"
   ]
  },
  {
   "cell_type": "markdown",
   "metadata": {},
   "source": [
    "# Field Solver"
   ]
  },
  {
   "cell_type": "code",
   "execution_count": 8,
   "metadata": {
    "collapsed": true
   },
   "outputs": [],
   "source": [
    "# Set up fieldsolver\n",
    "f3d.mgtol = 1e-3 # Multigrid solver convergence tolerance, in volts. 1 uV is default in Warp.\n",
    "solverE = MultiGrid2D()\n",
    "registersolver(solverE)\n",
    "# solverE.mgverbose = -1 # Don't print solver convergence information"
   ]
  },
  {
   "cell_type": "markdown",
   "metadata": {},
   "source": [
    "# Conducting boundaries and Scrapers  \n",
    "\n",
    "These must be installed after registering the field solver."
   ]
  },
  {
   "cell_type": "code",
   "execution_count": 9,
   "metadata": {
    "collapsed": true
   },
   "outputs": [],
   "source": [
    "# Grid test options\n",
    "# 0: Single box with positive voltage\n",
    "# 1: Rows and columns of conducting squares\n",
    "\n",
    "grid = 1"
   ]
  },
  {
   "cell_type": "code",
   "execution_count": 10,
   "metadata": {},
   "outputs": [],
   "source": [
    "if not grid:\n",
    "    cond = Box(CHANNEL_WIDTH / 2., 10., PLATE_SPACING / 2., \n",
    "               xcent=0.,  \n",
    "               ycent=0., \n",
    "               zcent=PLATE_SPACING / 2.,\n",
    "               voltage=10.)\n",
    "    solverE.installconductor(cond)    \n",
    "\n",
    "if grid:\n",
    "    col = 5\n",
    "    row = 5\n",
    "    k = 0.\n",
    "    for i in range(col):\n",
    "        for j in range(row):\n",
    "            cond = Box(CHANNEL_WIDTH / col * 0.75, 10., PLATE_SPACING / row * 0.75, \n",
    "                       xcent=CHANNEL_WIDTH * (i + 1) / col - CHANNEL_WIDTH / 2. - CHANNEL_WIDTH / col / 2.,  \n",
    "                       ycent=0., \n",
    "                       zcent=PLATE_SPACING * (j + 1) / row - PLATE_SPACING / row / 2.,\n",
    "                       voltage=-50. + k)\n",
    "            k += 5\n",
    "            solverE.installconductor(cond)"
   ]
  },
  {
   "cell_type": "markdown",
   "metadata": {},
   "source": [
    "# Particle, Lost Particle, and Field Diagnostics"
   ]
  },
  {
   "cell_type": "code",
   "execution_count": 11,
   "metadata": {
    "collapsed": true
   },
   "outputs": [],
   "source": [
    "# Field Diagnostics\n",
    "fieldperiod = 100\n",
    "efield_diagnostic_0 = FieldDiagnostic.ElectrostaticFields(solver=solverE, top=top, w3d=w3d,\n",
    "                                                          write_dir=field_base_path + 'electric',\n",
    "                                                          comm_world=comm_world, period=fieldperiod)\n",
    "installafterstep(efield_diagnostic_0.write)"
   ]
  },
  {
   "cell_type": "markdown",
   "metadata": {},
   "source": [
    "# Generate PIC code and Run Simulation"
   ]
  },
  {
   "cell_type": "code",
   "execution_count": 12,
   "metadata": {},
   "outputs": [
    {
     "name": "stdout",
     "output_type": "stream",
     "text": [
      " ***  particle simulation package W3D generating\n",
      " ---  Resetting lattice array sizes\n",
      " ---  Allocating space for particles\n",
      " ---  Loading particles\n",
      " ---  Setting charge density\n",
      " ---  done\n",
      " ---  Allocating Win_Moments\n",
      " ---  Allocating Z_Moments\n",
      " ---  Allocating Lab_Moments\n",
      "Multigrid2d: Error converged to   7.305E-04 in    26 v-cycles           \n",
      "it =      0 time = 0.0000E+00 pz = 0.0000E+00 ese = 0.0000E+00 ek = 0.0000E+00 et = 0.0000E+00\n"
     ]
    }
   ],
   "source": [
    "# prevent GIST from starting upon setup\n",
    "top.lprntpara = False\n",
    "top.lpsplots = False\n",
    "\n",
    "# top.verbosity = 0 # Reduce solver verbosity \n",
    "package(\"w3d\")\n",
    "generate()"
   ]
  },
  {
   "cell_type": "code",
   "execution_count": 13,
   "metadata": {},
   "outputs": [
    {
     "name": "stdout",
     "output_type": "stream",
     "text": [
      " ***  particle simulation package W3D running\n",
      "Multigrid2d: Error converged to   4.717E-04 in     1 v-cycles           \n",
      "it =      1 time = 0.0000E+00 pz = 0.0000E+00 ese = 0.0000E+00 ek = 0.0000E+00 et = 0.0000E+00\n"
     ]
    }
   ],
   "source": [
    "step(1)"
   ]
  },
  {
   "cell_type": "markdown",
   "metadata": {},
   "source": [
    "# Analysis"
   ]
  },
  {
   "cell_type": "markdown",
   "metadata": {},
   "source": [
    "# Conductor Positions/Sizes"
   ]
  },
  {
   "cell_type": "code",
   "execution_count": 14,
   "metadata": {
    "scrolled": false
   },
   "outputs": [],
   "source": [
    "print_attr = False\n",
    "\n",
    "if print_attr:\n",
    "    for cond in solverE.installedconductorlists[0.0]:\n",
    "        print cond\n",
    "        print \"xcent:\", cond.xcent \n",
    "        try:\n",
    "            print \"xsize:\", cond.xsize\n",
    "        except AttributeError:\n",
    "            print\n",
    "        print \"zcent:\", cond.zcent\n",
    "        try:\n",
    "            print \"zsize:\", cond.zsize\n",
    "        except AttributeError:\n",
    "            print"
   ]
  },
  {
   "cell_type": "code",
   "execution_count": 15,
   "metadata": {},
   "outputs": [],
   "source": [
    "print_types = False\n",
    "\n",
    "if print_types:\n",
    "    for cond in solverE.installedconductorlists[0.0]:\n",
    "        print type(cond)\n",
    "        print cond.voltage\n",
    "        print type(cond) is 'warp.field_solvers.generateconductors.ZPlane'\n",
    "        print isinstance(cond, getattr(field_solvers.generateconductors, \"ZPlane\"))"
   ]
  },
  {
   "cell_type": "code",
   "execution_count": 16,
   "metadata": {},
   "outputs": [],
   "source": [
    "sys.path.append('/Users/chall/research/github/rswarp/rswarp/utilities/')\n",
    "\n",
    "from conductor_plot import PlotConductors"
   ]
  },
  {
   "cell_type": "code",
   "execution_count": 17,
   "metadata": {},
   "outputs": [],
   "source": [
    "# Initialize plotting class instance\n",
    "test = PlotConductors()"
   ]
  },
  {
   "cell_type": "code",
   "execution_count": 18,
   "metadata": {},
   "outputs": [],
   "source": [
    "# Get size and position information for conductors registered to the solver\n",
    "test.conductor_coordinates(solverE)\n",
    "test.variable_voltage_color = True"
   ]
  },
  {
   "cell_type": "code",
   "execution_count": 19,
   "metadata": {},
   "outputs": [
    {
     "data": {
      "text/plain": [
       "<IPython.core.display.Javascript object>"
      ]
     },
     "metadata": {},
     "output_type": "display_data"
    },
    {
     "data": {
      "text/html": [
       "<img src=\"data:image/png;base64,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\" width=\"640\">"
      ],
      "text/plain": [
       "<IPython.core.display.HTML object>"
      ]
     },
     "metadata": {},
     "output_type": "execute_result"
    }
   ],
   "source": [
    "# Create matplotlib plot\n",
    "test.create_artist()\n",
    "# Populate plot with conductors\n",
    "test.conductor_collection()\n"
   ]
  },
  {
   "cell_type": "code",
   "execution_count": 20,
   "metadata": {},
   "outputs": [
    {
     "data": {
      "text/plain": [
       "<IPython.core.display.Javascript object>"
      ]
     },
     "metadata": {},
     "output_type": "display_data"
    },
    {
     "data": {
      "text/html": [
       "<img src=\"data:image/png;base64,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\" width=\"640\">"
      ],
      "text/plain": [
       "<IPython.core.display.HTML object>"
      ]
     },
     "metadata": {},
     "output_type": "execute_result"
    }
   ],
   "source": [
    "figt, axt = plt.subplots(1,1)\n",
    "\n",
    "axt.add_patch(patches.Rectangle((0.5, 0.5,), 0.25, 0.25, color=plt.cm.viridis(191)))\n",
    "axt.add_patch(patches.Rectangle((0.25, 0.25,), 0.25, 0.25, color=plt.cm.viridis(216)))\n",
    "int(-8.88)\n",
    "plt.show()"
   ]
  },
  {
   "cell_type": "code",
   "execution_count": 21,
   "metadata": {},
   "outputs": [
    {
     "data": {
      "text/plain": [
       "-8"
      ]
     },
     "execution_count": 21,
     "metadata": {},
     "output_type": "execute_result"
    }
   ],
   "source": [
    "int(-8.88)"
   ]
  },
  {
   "cell_type": "code",
   "execution_count": null,
   "metadata": {
    "collapsed": true
   },
   "outputs": [],
   "source": [
    ""
   ]
  }
 ],
 "metadata": {
  "kernelspec": {
   "display_name": "Python 2",
   "language": "python",
   "name": "python2"
  },
  "language_info": {
   "codemirror_mode": {
    "name": "ipython",
    "version": 2.0
   },
   "file_extension": ".py",
   "mimetype": "text/x-python",
   "name": "python",
   "nbconvert_exporter": "python",
   "pygments_lexer": "ipython2",
   "version": "2.7.11"
  },
  "widgets": {
   "state": {},
   "version": "1.1.2"
  }
 },
 "nbformat": 4,
 "nbformat_minor": 0
}