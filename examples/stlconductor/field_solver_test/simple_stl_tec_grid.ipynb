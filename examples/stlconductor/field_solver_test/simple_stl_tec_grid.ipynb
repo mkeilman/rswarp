{
 "cells": [
  {
   "cell_type": "code",
   "execution_count": 1,
   "metadata": {},
   "outputs": [
    {
     "name": "stderr",
     "output_type": "stream",
     "text": [
      "/Users/yhu/.pyenv/versions/2.7.14/envs/warp/lib/python2.7/site-packages/warp/warp.py:79: UserWarning: there was an error importing gist; if this is a problem, restart python and type 'import gist' for details, otherwise Warp will run OK but with no graphics\n",
      "  warnings.warn(\"there was an error importing gist; if this is a problem, restart python and type 'import gist' for details, otherwise Warp will run OK but with no graphics\")\n"
     ]
    },
    {
     "name": "stdout",
     "output_type": "stream",
     "text": [
      "# Warp\n",
      "# Origin date: Fri, 5 Oct 2018 22:42:05 +0000\n",
      "# Local date: Fri, 5 Oct 2018 22:42:05 +0000\n",
      "# Commit hash: 8ade0910\n",
      "# /Users/yhu/.pyenv/versions/2.7.14/envs/warp/lib/python2.7/site-packages/warp/warp.pyc\n",
      "# /Users/yhu/.pyenv/versions/2.7.14/envs/warp/lib/python2.7/site-packages/warp/warpC.so\n",
      "# Sun Feb 17 22:58:54 2019\n",
      "# import warp time 0.403343915939 seconds\n",
      "# For more help, type warphelp()\n"
     ]
    }
   ],
   "source": [
    "%matplotlib inline\n",
    "\n",
    "from __future__ import division\n",
    "\n",
    "import numpy as np\n",
    "import h5py as h5\n",
    "import time\n",
    "import sys\n",
    "\n",
    "# set warpoptions.ignoreUnknownArgs = True before main import to allow command line arguments\n",
    "import warpoptions\n",
    "warpoptions.ignoreUnknownArgs = True\n",
    "\n",
    "from warp import *\n",
    "\n",
    "path_to_rswarp = '/Users/yhu/Documents/Work/RadiaSoft/rswarp'\n",
    "if not path_to_rswarp in sys.path: sys.path.insert(1, path_to_rswarp)\n",
    "\n",
    "from copy import deepcopy\n",
    "from random import randint\n",
    "from rswarp.cathode import sources\n",
    "from warp.data_dumping.openpmd_diag import ParticleDiagnostic\n",
    "from rswarp.diagnostics import FieldDiagnostic\n",
    "from rswarp.utilities.file_utils import cleanupPrevious\n",
    "from rswarp.diagnostics.parallel import save_lost_particles\n",
    "from rswarp.diagnostics.ConductorDiagnostics import analyze_scraped_particles\n",
    "\n",
    "from rswarp.stlconductor.stlconductor import *\n",
    "\n",
    "# Constants imports\n",
    "from scipy.constants import e, m_e, c, k\n",
    "\n",
    "# Set matplotlib backend for saving plots (if requested)\n",
    "import matplotlib as mpl \n",
    "  \n",
    "import matplotlib.pyplot as plt \n",
    "from matplotlib import colors\n",
    "from matplotlib import cm as cmaps\n",
    "\n",
    "kb_eV = 8.6173324e-5  # Bolztmann constant in eV/K\n",
    "kb_J = k  # Boltzmann constant in J/K\n",
    "\n",
    "m = m_e  # electron mass"
   ]
  },
  {
   "cell_type": "code",
   "execution_count": 2,
   "metadata": {},
   "outputs": [],
   "source": [
    "############################\n",
    "# Domain / Geometry / Mesh #\n",
    "############################\n",
    "\n",
    "PLATE_SPACING = 10e-6     # plate spacing\n",
    "CHANNEL_WIDTH = 6.900e-6  # width of simulation box\n",
    "\n",
    "# Dimensions\n",
    "X_MAX = +CHANNEL_WIDTH / 2\n",
    "X_MIN = -X_MAX\n",
    "Y_MAX = +CHANNEL_WIDTH / 2.\n",
    "Y_MIN = -Y_MAX\n",
    "Z_MAX = PLATE_SPACING\n",
    "Z_MIN = 0.\n",
    "\n",
    "# Grid parameters\n",
    "NUM_X = 500; NUM_Y = 500; NUM_Z = 1000\n",
    "\n",
    "# z step size\n",
    "dx = (X_MAX - X_MIN)/NUM_X\n",
    "dy = (Y_MAX - Y_MIN)/NUM_Y\n",
    "dz = (Z_MAX - Z_MIN)/NUM_Z\n",
    "\n",
    "# Solver Geometry and Boundaries\n",
    "\n",
    "# Specify solver geometry\n",
    "w3d.solvergeom = w3d.XYZgeom\n",
    "\n",
    "# Set field boundary conditions\n",
    "w3d.bound0 = neumann\n",
    "w3d.boundnz = dirichlet\n",
    "w3d.boundxy = periodic\n",
    "\n",
    "# Particles boundary conditions\n",
    "top.pbound0 = absorb\n",
    "top.pboundnz = absorb\n",
    "top.pboundxy = periodic\n",
    "\n",
    "# Set mesh boundaries\n",
    "w3d.xmmin = X_MIN\n",
    "w3d.xmmax = X_MAX\n",
    "w3d.ymmin = Y_MIN\n",
    "w3d.ymmax = Y_MAX\n",
    "w3d.zmmin = 0.\n",
    "w3d.zmmax = Z_MAX\n",
    "\n",
    "# Set mesh cell counts\n",
    "w3d.nx = NUM_X\n",
    "w3d.ny = NUM_Y\n",
    "w3d.nz = NUM_Z"
   ]
  },
  {
   "cell_type": "code",
   "execution_count": 3,
   "metadata": {},
   "outputs": [],
   "source": [
    "###############################\n",
    "# PARTICLE INJECTION SETTINGS #\n",
    "###############################\n",
    "\n",
    "injection_type = 1\n",
    "cathode_temperature = 1273.15\n",
    "cathode_workfunction = 2.0             # in eV\n",
    "anode_workfunction = 0.1\n",
    "volts_on_conductor = 10.\n",
    "\n",
    "# INJECTION SPECIFICATION\n",
    "USER_INJECT = injection_type\n",
    "\n",
    "# Cathode and anode settings\n",
    "CATHODE_TEMP = cathode_temperature\n",
    "CATHODE_PHI = cathode_workfunction\n",
    "ANODE_WF = anode_workfunction          # Can be used if vacuum level is being set\n",
    "CONDUCTOR_VOLTS = volts_on_conductor   # ACCEL_VOLTS used for velocity and CL calculations\n",
    "\n",
    "# Emitted species\n",
    "# Emitter area and position\n",
    "SOURCE_RADIUS_1 = 0.5 * CHANNEL_WIDTH  # a0 parameter - X plane\n",
    "SOURCE_RADIUS_2 = 0.5 * CHANNEL_WIDTH  # b0 parameter - Y plane\n",
    "Z_PART_MIN = dz / 1000.                # starting particle z value\n",
    "\n",
    "# Compute cathode area for geomtry-specific current calculations\n",
    "if (w3d.solvergeom == w3d.XYZgeom):\n",
    "    # For 3D cartesion geometry only\n",
    "    cathode_area = 4. * SOURCE_RADIUS_1 * SOURCE_RADIUS_2\n",
    "else:\n",
    "    # Assume 2D XZ geometry\n",
    "    cathode_area = 2. * SOURCE_RADIUS_1 * 1.\n",
    "\n",
    "# If using the XZ geometry, set so injection uses the same geometry\n",
    "top.linj_rectangle = (w3d.solvergeom == w3d.XZgeom or w3d.solvergeom == w3d.XYZgeom)\n",
    "\n",
    "PTCL_PER_STEP = 300\n",
    "CURRENT_MODIFIER = 0.5                 # Factor to multiply CL current by when setting beam current\n",
    "\n",
    "derivqty()"
   ]
  },
  {
   "cell_type": "code",
   "execution_count": 4,
   "metadata": {},
   "outputs": [],
   "source": [
    "################\n",
    "# FIELD SOLVER #\n",
    "################\n",
    "\n",
    "# Set up fieldsolver\n",
    "f3d.mgtol = 1e-6\n",
    "solverE = MultiGrid3D()\n",
    "registersolver(solverE)"
   ]
  },
  {
   "cell_type": "code",
   "execution_count": 5,
   "metadata": {},
   "outputs": [
    {
     "name": "stdout",
     "output_type": "stream",
     "text": [
      " ---  Ray-triangle intersection finding scheme selected: Watertight\n",
      " ---  STL conductor surface mesh: # of vertices and elements = (296, 732)\n",
      " ---  STL conductor surface mesh: extent -> (xmin,ymin,zmin)=(-3.50000004801e-06,-3.50000004801e-06,3.44999989466e-06), (xmax,ymax,zmax)=(3.50000004801e-06,3.50000004801e-06,3.54999997398e-06)\n",
      " ---  STL conductor surface mesh: triangle element angles -> (min,max,median)=(0.0675020628005,176.855041531,84.289402348) deg\n"
     ]
    }
   ],
   "source": [
    "##########################\n",
    "# CONDUCTOR INSTALLATION #\n",
    "##########################\n",
    "\n",
    "install_conductor = True\n",
    "ofile_prefix = \"simple_tec_grid__dx{:.2f}\".format(dz*1e9)\n",
    "\n",
    "if install_conductor: \n",
    "    conductor = STLconductor(\"../grid/simple_tec_grid.stl\", verbose=\"on\", voltage=CONDUCTOR_VOLTS, normalization_factor=dz, condid=1)"
   ]
  },
  {
   "cell_type": "code",
   "execution_count": 6,
   "metadata": {},
   "outputs": [],
   "source": [
    "# --- Anode Location\n",
    "zplate = Z_MAX\n",
    "\n",
    "# Create source conductors\n",
    "if install_conductor:\n",
    "    source = ZPlane(zcent=w3d.zmmin, zsign=-1., voltage=0., condid=2)\n",
    "else:\n",
    "    source = ZPlane(zcent=w3d.zmmin, zsign=-1., voltage=0.)\n",
    "\n",
    "# Create ground plate\n",
    "if install_conductor:\n",
    "    plate = ZPlane(voltage=0., zcent=zplate, condid=3)\n",
    "else:\n",
    "    plate = ZPlane(voltage=volts_on_conductor, zcent=zplate)"
   ]
  },
  {
   "cell_type": "code",
   "execution_count": 7,
   "metadata": {},
   "outputs": [],
   "source": [
    "if install_conductor :\n",
    "    installconductor(conductor, dfill=largepos)\n",
    "    installconductor(source, dfill=largepos)\n",
    "    installconductor(plate, dfill=largepos)\n",
    "#     scraper = ParticleScraper([accel_grid, source, plate],\n",
    "#                               lcollectlpdata=True,\n",
    "#                               lsaveintercept=True)\n",
    "#     scraper_dictionary = {1: 'grid', 2: 'source', 3: 'collector'}\n",
    "    scraper = ParticleScraper([source, plate],\n",
    "                              lcollectlpdata=True,\n",
    "                              lsaveintercept=True)\n",
    "    scraper_dictionary = {1: 'source', 2: 'collector'}\n",
    "else:\n",
    "    installconductor(source, dfill=largepos)\n",
    "    installconductor(plate, dfill=largepos)\n",
    "    scraper = ParticleScraper([source, plate])\n",
    "    scraper_dictionary = {1: 'source', 2: 'collector'}"
   ]
  },
  {
   "cell_type": "code",
   "execution_count": 8,
   "metadata": {},
   "outputs": [
    {
     "name": "stdout",
     "output_type": "stream",
     "text": [
      " ***  particle simulation package W3D generating\n",
      " ---  Resetting lattice array sizes\n",
      " ---  Allocating space for particles\n",
      " ---  Loading particles\n",
      " ---  Setting charge density\n",
      " ---  done\n",
      " ---  Allocating Win_Moments\n",
      " ---  Allocating Z_Moments\n",
      " ---  Allocating Lab_Moments\n",
      " ---  generating intercepts for mglevel = 0\n",
      " ---  (nx,ny,nz)=(500,500,13), (dx,dy,dz)=(1.38,1.38,1.0)\n",
      " ---  boxlo=(-345.0,-345.0,343.0), boxhi=(345.0,345.0,356.0)\n",
      " ---  surface_boxlo=(-350.000004801,-350.000004801,344.999989466), surface_boxhi=(350.000004801,350.000004801,354.999997398)\n",
      " ---  generating xintercepts ...\n",
      " ---  generating yintercepts ...\n",
      " ---  generating zintercepts ...\n",
      " ---  generating intercepts for mglevel = 1\n",
      " ---  (nx,ny,nz)=(500,500,8), (dx,dy,dz)=(1.38,1.38,2.0)\n",
      " ---  boxlo=(-345.0,-345.0,342.0), boxhi=(345.0,345.0,358.0)\n",
      " ---  surface_boxlo=(-350.000004801,-350.000004801,344.999989466), surface_boxhi=(350.000004801,350.000004801,354.999997398)\n",
      " ---  generating xintercepts ...\n",
      " ---  generating yintercepts ...\n",
      " ---  generating zintercepts ...\n",
      " ---  generating intercepts for mglevel = 2\n",
      " ---  (nx,ny,nz)=(250,250,8), (dx,dy,dz)=(2.76,2.76,2.0)\n",
      " ---  boxlo=(-345.0,-345.0,342.0), boxhi=(345.0,345.0,358.0)\n",
      " ---  surface_boxlo=(-350.000004801,-350.000004801,344.999989466), surface_boxhi=(350.000004801,350.000004801,354.999997398)\n",
      " ---  generating xintercepts ...\n",
      " ---  generating yintercepts ...\n",
      " ---  generating zintercepts ...\n",
      " ---  generating intercepts for mglevel = 3\n",
      " ---  (nx,ny,nz)=(250,250,5), (dx,dy,dz)=(2.76,2.76,4.0)\n",
      " ---  boxlo=(-345.0,-345.0,340.0), boxhi=(345.0,345.0,360.0)\n",
      " ---  surface_boxlo=(-350.000004801,-350.000004801,344.999989466), surface_boxhi=(350.000004801,350.000004801,354.999997398)\n",
      " ---  generating xintercepts ...\n",
      " ---  generating yintercepts ...\n",
      " ---  generating zintercepts ...\n",
      " ---  generating intercepts for mglevel = 4\n",
      " ---  (nx,ny,nz)=(126,126,5), (dx,dy,dz)=(5.47619047619,5.47619047619,4.0)\n",
      " ---  boxlo=(-345.0,-345.0,340.0), boxhi=(345.0,345.0,360.0)\n",
      " ---  surface_boxlo=(-350.000004801,-350.000004801,344.999989466), surface_boxhi=(350.000004801,350.000004801,354.999997398)\n",
      " ---  generating xintercepts ...\n",
      " ---  generating yintercepts ...\n",
      " ---  generating zintercepts ...\n",
      " ---  generating intercepts for mglevel = 5\n",
      " ---  (nx,ny,nz)=(126,126,4), (dx,dy,dz)=(5.47619047619,5.47619047619,7.93650793651)\n",
      " ---  boxlo=(-345.0,-345.0,333.333333333), boxhi=(345.0,345.0,365.079365079)\n",
      " ---  surface_boxlo=(-350.000004801,-350.000004801,344.999989466), surface_boxhi=(350.000004801,350.000004801,354.999997398)\n",
      " ---  generating xintercepts ...\n",
      " ---  generating yintercepts ...\n",
      " ---  generating zintercepts ...\n",
      " ---  generating intercepts for mglevel = 6\n",
      " ---  (nx,ny,nz)=(64,64,4), (dx,dy,dz)=(10.78125,10.78125,7.93650793651)\n",
      " ---  boxlo=(-345.0,-345.0,333.333333333), boxhi=(345.0,345.0,365.079365079)\n",
      " ---  surface_boxlo=(-350.000004801,-350.000004801,344.999989466), surface_boxhi=(350.000004801,350.000004801,354.999997398)\n",
      " ---  generating xintercepts ...\n",
      " ---  generating yintercepts ...\n",
      " ---  generating zintercepts ...\n",
      " ---  generating intercepts for mglevel = 7\n",
      " ---  (nx,ny,nz)=(64,64,3), (dx,dy,dz)=(10.78125,10.78125,15.625)\n",
      " ---  boxlo=(-345.0,-345.0,328.125), boxhi=(345.0,345.0,375.0)\n",
      " ---  surface_boxlo=(-350.000004801,-350.000004801,344.999989466), surface_boxhi=(350.000004801,350.000004801,354.999997398)\n",
      " ---  generating xintercepts ...\n",
      " ---  generating yintercepts ...\n",
      " ---  generating zintercepts ...\n",
      " ---  generating intercepts for mglevel = 8\n",
      " ---  (nx,ny,nz)=(32,32,3), (dx,dy,dz)=(21.5625,21.5625,15.625)\n",
      " ---  boxlo=(-345.0,-345.0,328.125), boxhi=(345.0,345.0,375.0)\n",
      " ---  surface_boxlo=(-350.000004801,-350.000004801,344.999989466), surface_boxhi=(350.000004801,350.000004801,354.999997398)\n",
      " ---  generating xintercepts ...\n",
      " ---  generating yintercepts ...\n",
      " ---  generating zintercepts ...\n",
      " ---  generating intercepts for mglevel = 9\n",
      " ---  (nx,ny,nz)=(32,32,3), (dx,dy,dz)=(21.5625,21.5625,31.25)\n",
      " ---  boxlo=(-345.0,-345.0,312.5), boxhi=(345.0,345.0,406.25)\n",
      " ---  surface_boxlo=(-350.000004801,-350.000004801,344.999989466), surface_boxhi=(350.000004801,350.000004801,354.999997398)\n",
      " ---  generating xintercepts ...\n",
      " ---  generating yintercepts ...\n",
      " ---  generating zintercepts ...\n",
      " ---  generating intercepts for mglevel = 10\n",
      " ---  (nx,ny,nz)=(16,16,3), (dx,dy,dz)=(43.125,43.125,31.25)\n",
      " ---  boxlo=(-345.0,-345.0,312.5), boxhi=(345.0,345.0,406.25)\n",
      " ---  surface_boxlo=(-350.000004801,-350.000004801,344.999989466), surface_boxhi=(350.000004801,350.000004801,354.999997398)\n",
      " ---  generating xintercepts ...\n",
      " ---  generating yintercepts ...\n",
      " ---  generating zintercepts ...\n",
      " ---  generating intercepts for mglevel = 11\n",
      " ---  (nx,ny,nz)=(16,16,3), (dx,dy,dz)=(43.125,43.125,62.5)\n",
      " ---  boxlo=(-345.0,-345.0,250.0), boxhi=(345.0,345.0,437.5)\n",
      " ---  surface_boxlo=(-350.000004801,-350.000004801,344.999989466), surface_boxhi=(350.000004801,350.000004801,354.999997398)\n",
      " ---  generating xintercepts ...\n",
      " ---  generating yintercepts ...\n",
      " ---  generating zintercepts ...\n",
      " ---  generating intercepts for mglevel = 12\n",
      " ---  (nx,ny,nz)=(8,8,3), (dx,dy,dz)=(86.25,86.25,62.5)\n",
      " ---  boxlo=(-345.0,-345.0,250.0), boxhi=(345.0,345.0,437.5)\n",
      " ---  surface_boxlo=(-350.000004801,-350.000004801,344.999989466), surface_boxhi=(350.000004801,350.000004801,354.999997398)\n",
      " ---  generating xintercepts ...\n",
      " ---  generating yintercepts ...\n",
      " ---  generating zintercepts ...\n",
      " ---  generating intercepts for mglevel = 13\n",
      " ---  (nx,ny,nz)=(8,8,3), (dx,dy,dz)=(86.25,86.25,125.0)\n",
      " ---  boxlo=(-345.0,-345.0,125.0), boxhi=(345.0,345.0,500.0)\n",
      " ---  surface_boxlo=(-350.000004801,-350.000004801,344.999989466), surface_boxhi=(350.000004801,350.000004801,354.999997398)\n",
      " ---  generating xintercepts ...\n",
      " ---  generating yintercepts ...\n",
      " ---  generating zintercepts ...\n",
      " ---  generating intercepts for mglevel = 14\n",
      " ---  (nx,ny,nz)=(4,4,3), (dx,dy,dz)=(172.5,172.5,125.0)\n",
      " ---  boxlo=(-345.0,-345.0,125.0), boxhi=(345.0,345.0,500.0)\n",
      " ---  surface_boxlo=(-350.000004801,-350.000004801,344.999989466), surface_boxhi=(350.000004801,350.000004801,354.999997398)\n",
      " ---  generating xintercepts ...\n",
      " ---  generating yintercepts ...\n",
      " ---  generating zintercepts ...\n",
      "Multigrid: Error converged to   6.754E-07 in    24 v-cycles             \n",
      " ***  particle simulation package W3D running\n",
      "Multigrid: Error converged to   3.307E-07 in     1 v-cycles             \n"
     ]
    }
   ],
   "source": [
    "####################\n",
    "# CONTROL SEQUENCE #\n",
    "####################\n",
    "\n",
    "# prevent gist from starting upon setup\n",
    "top.lprntpara = false\n",
    "top.lpsplots = false\n",
    "\n",
    "top.verbosity = 1      # Reduce solver verbosity\n",
    "solverE.mgverbose = 1  # further reduce output upon stepping - prevents websocket timeouts in Jupyter notebook\n",
    "\n",
    "init_iters = 20000\n",
    "regular_iters = 200\n",
    "\n",
    "init_tol = 1e-6\n",
    "regular_tol = 1e-6\n",
    "\n",
    "# Time Step\n",
    "\n",
    "# initialize field solver and potential field\n",
    "solverE.mgmaxiters = init_iters\n",
    "solverE.mgtol = init_tol\n",
    "package(\"w3d\")\n",
    "generate()\n",
    "\n",
    "step(1)\n",
    "    "
   ]
  },
  {
   "cell_type": "code",
   "execution_count": 9,
   "metadata": {},
   "outputs": [
    {
     "data": {
      "image/png": "[encoded data removed]",
      "text/plain": [
       "<Figure size 432x288 with 2 Axes>"
      ]
     },
     "metadata": {
      "needs_background": "light"
     },
     "output_type": "display_data"
    },
    {
     "data": {
      "text/plain": [
       "<Figure size 432x288 with 0 Axes>"
      ]
     },
     "metadata": {},
     "output_type": "display_data"
    }
   ],
   "source": [
    "###############\n",
    "# DIAGNOSTICS #\n",
    "###############\n",
    "\n",
    "phi = solverE.getphi()\n",
    "E = np.sqrt(solverE.getez() ** 2 + solverE.getex() ** 2 + solverE.getey() ** 2)\n",
    "\n",
    "# xy-plane at z = zcent\n",
    "grid_z = 3.5e-6\n",
    "grid_iz = int((grid_z-Z_MIN)/dz)\n",
    "\n",
    "x = np.linspace(X_MIN,X_MAX,NUM_X+1)*1e6\n",
    "y = np.linspace(Y_MIN,Y_MAX,NUM_Y+1)*1e6\n",
    "z = np.linspace(Z_MIN,Z_MAX,NUM_Z+1)*1e6\n",
    "\n",
    "X, Y = np.meshgrid(x,y)\n",
    "\n",
    "# Phi on grid (slice of xy-plane)\n",
    "plt.figure()\n",
    "plt.contourf(X,Y,phi[:,:,grid_iz],20,cmap = cmaps.viridis)\n",
    "plt.xlabel(r'x position [$\\mu$m]')\n",
    "plt.ylabel(r'y position [$\\mu$m]')\n",
    "plt.colorbar(label = 'Volts')\n",
    "ax = plt.gca()\n",
    "ax.set_aspect(1)\n",
    "plt.show()\n",
    "\n",
    "plt.savefig(ofile_prefix+\"_potential.png\", dpi=200)"
   ]
  },
  {
   "cell_type": "code",
   "execution_count": 10,
   "metadata": {},
   "outputs": [
    {
     "data": {
      "image/png": "[encoded data removed]",
      "text/plain": [
       "<Figure size 432x288 with 2 Axes>"
      ]
     },
     "metadata": {
      "needs_background": "light"
     },
     "output_type": "display_data"
    },
    {
     "data": {
      "text/plain": [
       "<Figure size 432x288 with 0 Axes>"
      ]
     },
     "metadata": {},
     "output_type": "display_data"
    }
   ],
   "source": [
    "# E on grid (slice of xy-plane)\n",
    "plt.figure()\n",
    "plt.contourf(X,Y,E[:,:,grid_iz]*1e-6,20,cmap = cmaps.viridis)\n",
    "plt.xlabel(r'x position [$\\mu$m]')\n",
    "plt.ylabel(r'y position [$\\mu$m]')\n",
    "plt.colorbar(label = '[MV/m]')\n",
    "ax = plt.gca()\n",
    "ax.set_aspect(1)\n",
    "plt.show()\n",
    "\n",
    "plt.savefig(ofile_prefix+\"_efield.png\", dpi=200)"
   ]
  },
  {
   "cell_type": "code",
   "execution_count": 11,
   "metadata": {},
   "outputs": [
    {
     "data": {
      "image/png": "[encoded data removed]",
      "text/plain": [
       "<Figure size 432x288 with 2 Axes>"
      ]
     },
     "metadata": {
      "needs_background": "light"
     },
     "output_type": "display_data"
    }
   ],
   "source": [
    "# Phi on yz-plane at x = xcent\n",
    "grid_x  = X_MIN + CHANNEL_WIDTH*0.5\n",
    "grid_ix = int((grid_x-X_MIN)/dx)\n",
    "grid_y  = Y_MIN + CHANNEL_WIDTH*0.5\n",
    "grid_iy = int((grid_y-Y_MIN)/dy)\n",
    "\n",
    "Z, Y = np.meshgrid(z,y)\n",
    "plt.figure()\n",
    "plt.contourf(Z, Y, phi[grid_ix,:,:],20,cmap = cmaps.viridis)\n",
    "plt.xlabel(r'x position [$\\mu$m]')\n",
    "plt.ylabel(r'y position [$\\mu$m]')\n",
    "clim = [0., 10.]\n",
    "plt.clim(clim[0], clim[1])\n",
    "plt.colorbar(label = 'Volts', ticks = np.arange(clim[0], clim[1]+1e-10, 2))\n",
    "plt.gca().set_aspect(1)\n",
    "plt.show()"
   ]
  },
  {
   "cell_type": "code",
   "execution_count": 12,
   "metadata": {},
   "outputs": [],
   "source": [
    "np.save(\"phi_cad_gridded_tec.npy\", phi); np.save(\"E_cad_gridded_tec.npy\", E)"
   ]
  },
  {
   "cell_type": "code",
   "execution_count": null,
   "metadata": {},
   "outputs": [],
   "source": []
  },
  {
   "cell_type": "code",
   "execution_count": null,
   "metadata": {},
   "outputs": [],
   "source": []
  }
 ],
 "metadata": {
  "kernelspec": {
   "display_name": "Python 2",
   "language": "python",
   "name": "python2"
  },
  "language_info": {
   "codemirror_mode": {
    "name": "ipython",
    "version": 2
   },
   "file_extension": ".py",
   "mimetype": "text/x-python",
   "name": "python",
   "nbconvert_exporter": "python",
   "pygments_lexer": "ipython2",
   "version": "2.7.14"
  }
 },
 "nbformat": 4,
 "nbformat_minor": 2
}
