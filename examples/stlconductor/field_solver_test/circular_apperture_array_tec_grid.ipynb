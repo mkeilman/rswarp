{
 "cells": [
  {
   "cell_type": "code",
   "execution_count": 1,
   "metadata": {},
   "outputs": [
    {
     "name": "stderr",
     "output_type": "stream",
     "text": [
      "/Users/yhu/.pyenv/versions/2.7.14/envs/warp/lib/python2.7/site-packages/warp/warp.py:79: UserWarning: there was an error importing gist; if this is a problem, restart python and type 'import gist' for details, otherwise Warp will run OK but with no graphics\n",
      "  warnings.warn(\"there was an error importing gist; if this is a problem, restart python and type 'import gist' for details, otherwise Warp will run OK but with no graphics\")\n"
     ]
    },
    {
     "name": "stdout",
     "output_type": "stream",
     "text": [
      "# Warp\n",
      "# Origin date: Fri, 5 Oct 2018 22:42:05 +0000\n",
      "# Local date: Fri, 5 Oct 2018 22:42:05 +0000\n",
      "# Commit hash: 8ade0910\n",
      "# /Users/yhu/.pyenv/versions/2.7.14/envs/warp/lib/python2.7/site-packages/warp/warp.pyc\n",
      "# /Users/yhu/.pyenv/versions/2.7.14/envs/warp/lib/python2.7/site-packages/warp/warpC.so\n",
      "# Sun Feb 17 23:43:48 2019\n",
      "# import warp time 0.745516061783 seconds\n",
      "# For more help, type warphelp()\n"
     ]
    }
   ],
   "source": [
    "%matplotlib inline\n",
    "\n",
    "from __future__ import division\n",
    "\n",
    "import numpy as np\n",
    "import h5py as h5\n",
    "import time\n",
    "import sys\n",
    "\n",
    "# set warpoptions.ignoreUnknownArgs = True before main import to allow command line arguments\n",
    "import warpoptions\n",
    "warpoptions.ignoreUnknownArgs = True\n",
    "\n",
    "from warp import *\n",
    "\n",
    "path_to_rswarp = \"/Users/yhu/Documents/Work/RadiaSoft/rswarp\"\n",
    "if not path_to_rswarp in sys.path: sys.path.insert(1, path_to_rswarp)\n",
    "\n",
    "from copy import deepcopy\n",
    "from random import randint\n",
    "from rswarp.cathode import sources\n",
    "from warp.data_dumping.openpmd_diag import ParticleDiagnostic\n",
    "from rswarp.diagnostics import FieldDiagnostic\n",
    "from rswarp.utilities.file_utils import cleanupPrevious\n",
    "from rswarp.diagnostics.parallel import save_lost_particles\n",
    "from rswarp.diagnostics.ConductorDiagnostics import analyze_scraped_particles\n",
    "\n",
    "from rswarp.stlconductor.stlconductor import *\n",
    "\n",
    "# Constants imports\n",
    "from scipy.constants import e, m_e, c, k\n",
    "\n",
    "# Set matplotlib backend for saving plots (if requested)\n",
    "import matplotlib as mpl\n",
    "\n",
    "import matplotlib.pyplot as plt \n",
    "from matplotlib import colors\n",
    "from matplotlib import cm as cmaps\n",
    "\n",
    "kb_eV = 8.6173324e-5  # Bolztmann constant in eV/K\n",
    "kb_J = k  # Boltzmann constant in J/K\n",
    "\n",
    "m = m_e  # electron mass10"
   ]
  },
  {
   "cell_type": "code",
   "execution_count": 2,
   "metadata": {},
   "outputs": [],
   "source": [
    "############################\n",
    "# Domain / Geometry / Mesh #\n",
    "############################\n",
    "\n",
    "PLATE_SPACING   = 4000.e-9      # plate spacing\n",
    "CHANNEL_WIDTH_X = 800.e-9       # width of simulation box\n",
    "CHANNEL_WIDTH_Y = 900.e-9       # width of simulation box\n",
    "\n",
    "# CHANNEL_WIDTH_X and CHANNEL_Y are set like this to make sure periodic boundary is correct\n",
    "# Solving potential may also be helped because\n",
    "# finding intersections between PIC mesh lines and circular_apperture_array grid edges is avoided \n",
    "CHANNEL_WIDTH_X -= 2e-11\n",
    "CHANNEL_WIDTH_Y -= 2e-11\n",
    "\n",
    "# Dimensions\n",
    "X_MAX = +CHANNEL_WIDTH_X / 2\n",
    "X_MIN = -X_MAX\n",
    "Y_MAX = +CHANNEL_WIDTH_Y / 2.\n",
    "Y_MIN = -Y_MAX\n",
    "Z_MAX = PLATE_SPACING\n",
    "Z_MIN = 0.\n",
    "\n",
    "# Grid parameters\n",
    "NUM_X = 160; NUM_Y = 180; NUM_Z = 800\n",
    "\n",
    "# z step size\n",
    "dx = (X_MAX - X_MIN)/NUM_X\n",
    "dy = (Y_MAX - Y_MIN)/NUM_Y\n",
    "dz = (Z_MAX - Z_MIN)/NUM_Z\n",
    "\n",
    "# Solver Geometry and Boundaries\n",
    "\n",
    "# Specify solver geometry\n",
    "w3d.solvergeom = w3d.XYZgeom\n",
    "\n",
    "# Set field boundary conditions\n",
    "w3d.bound0 = neumann\n",
    "w3d.boundnz = dirichlet\n",
    "w3d.boundxy = periodic\n",
    "\n",
    "# Particles boundary conditions\n",
    "top.pbound0 = absorb\n",
    "top.pboundnz = absorb\n",
    "top.pboundxy = periodic\n",
    "\n",
    "# Set mesh boundaries\n",
    "w3d.xmmin = X_MIN\n",
    "w3d.xmmax = X_MAX\n",
    "w3d.ymmin = Y_MIN\n",
    "w3d.ymmax = Y_MAX\n",
    "w3d.zmmin = Z_MIN\n",
    "w3d.zmmax = Z_MAX\n",
    "\n",
    "# Set mesh cell counts\n",
    "w3d.nx = NUM_X\n",
    "w3d.ny = NUM_Y\n",
    "w3d.nz = NUM_Z"
   ]
  },
  {
   "cell_type": "code",
   "execution_count": 3,
   "metadata": {},
   "outputs": [],
   "source": [
    "###############################\n",
    "# PARTICLE INJECTION SETTINGS #\n",
    "###############################\n",
    "\n",
    "injection_type = 1\n",
    "cathode_temperature = 1273.15\n",
    "cathode_workfunction = 2.0             # in eV\n",
    "anode_workfunction = 0.1\n",
    "volts_on_conductor = 15.\n",
    "\n",
    "# INJECTION SPECIFICATION\n",
    "USER_INJECT = injection_type\n",
    "\n",
    "# Cathode and anode settings\n",
    "CATHODE_TEMP = cathode_temperature\n",
    "CATHODE_PHI = cathode_workfunction\n",
    "ANODE_WF = anode_workfunction          # Can be used if vacuum level is being set\n",
    "CONDUCTOR_VOLTS = volts_on_conductor   # ACCEL_VOLTS used for velocity and CL calculations\n",
    "\n",
    "# Emitted species\n",
    "# Emitter area and position\n",
    "SOURCE_RADIUS_1 = 0.5 * CHANNEL_WIDTH_X  # a0 parameter - X plane\n",
    "SOURCE_RADIUS_2 = 0.5 * CHANNEL_WIDTH_Y  # b0 parameter - Y plane\n",
    "Z_PART_MIN = dz / 1000.                  # starting particle z value\n",
    "\n",
    "# Compute cathode area for geomtry-specific current calculations\n",
    "if (w3d.solvergeom == w3d.XYZgeom):\n",
    "    # For 3D cartesion geometry only\n",
    "    cathode_area = 4. * SOURCE_RADIUS_1 * SOURCE_RADIUS_2\n",
    "else:\n",
    "    # Assume 2D XZ geometry\n",
    "    cathode_area = 2. * SOURCE_RADIUS_1 * 1.\n",
    "\n",
    "# If using the XZ geometry, set so injection uses the same geometry\n",
    "top.linj_rectangle = (w3d.solvergeom == w3d.XZgeom or w3d.solvergeom == w3d.XYZgeom)\n",
    "\n",
    "PTCL_PER_STEP = 300\n",
    "CURRENT_MODIFIER = 0.5                 # Factor to multiply CL current by when setting beam current\n",
    "\n",
    "derivqty()"
   ]
  },
  {
   "cell_type": "code",
   "execution_count": 4,
   "metadata": {},
   "outputs": [],
   "source": [
    "################\n",
    "# FIELD SOLVER #\n",
    "################\n",
    "\n",
    "# Set up fieldsolver\n",
    "f3d.mgtol = 1e-6\n",
    "solverE = MultiGrid3D()\n",
    "registersolver(solverE)"
   ]
  },
  {
   "cell_type": "code",
   "execution_count": 5,
   "metadata": {},
   "outputs": [
    {
     "name": "stdout",
     "output_type": "stream",
     "text": [
      " ---  Ray-triangle intersection finding scheme selected: Watertight\n",
      " ---  STL conductor surface mesh: # of vertices and elements = (43847, 87978)\n",
      " ---  STL conductor surface mesh: extent -> (xmin,ymin,zmin)=(-4e-07,-4.5e-07,2e-06), (xmax,ymax,zmax)=(4e-07,4.5e-07,2.005e-06)\n",
      " ---  STL conductor surface mesh: triangle element angles -> (min,max,median)=(32.2728140286,91.4955495276,60.0917991881) deg\n"
     ]
    }
   ],
   "source": [
    "##########################\n",
    "# CONDUCTOR INSTALLATION #\n",
    "##########################\n",
    "\n",
    "ofile_prefix = \"circular_apperture_array_dx{:.2f}\".format(dz*1e9)\n",
    "install_conductor = True\n",
    "\n",
    "if install_conductor:\n",
    "    conductor = STLconductor(\"../grid/circular_apperture_array_thickness5nm.stl\", verbose=\"on\", voltage=CONDUCTOR_VOLTS, normalization_factor=dz, condid=1)"
   ]
  },
  {
   "cell_type": "code",
   "execution_count": 6,
   "metadata": {},
   "outputs": [],
   "source": [
    "# --- Anode Location\n",
    "zplate = Z_MAX\n",
    "\n",
    "# Create source conductors\n",
    "if install_conductor:\n",
    "    source = ZPlane(zcent=w3d.zmmin, zsign=-1., voltage=0., condid=2)\n",
    "else:\n",
    "    source = ZPlane(zcent=w3d.zmmin, zsign=-1., voltage=0.)\n",
    "\n",
    "# Create ground plate\n",
    "if install_conductor:\n",
    "    plate = ZPlane(voltage=0., zcent=zplate, condid=3)\n",
    "else:\n",
    "    plate = ZPlane(voltage=volts_on_conductor, zcent=zplate)"
   ]
  },
  {
   "cell_type": "code",
   "execution_count": 7,
   "metadata": {},
   "outputs": [],
   "source": [
    "if install_conductor :\n",
    "    installconductor(conductor, dfill=largepos)\n",
    "    installconductor(source, dfill=largepos)\n",
    "    installconductor(plate, dfill=largepos)\n",
    "#     scraper = ParticleScraper([accel_grid, source, plate],\n",
    "#                               lcollectlpdata=True,\n",
    "#                               lsaveintercept=True)\n",
    "#     scraper_dictionary = {1: 'grid', 2: 'source', 3: 'collector'}\n",
    "    scraper = ParticleScraper([source, plate],\n",
    "                              lcollectlpdata=True,\n",
    "                              lsaveintercept=True)\n",
    "    scraper_dictionary = {1: 'source', 2: 'collector'}\n",
    "else:\n",
    "    installconductor(source, dfill=largepos)\n",
    "    installconductor(plate, dfill=largepos)\n",
    "    scraper = ParticleScraper([source, plate])\n",
    "    scraper_dictionary = {1: 'source', 2: 'collector'}"
   ]
  },
  {
   "cell_type": "code",
   "execution_count": 8,
   "metadata": {},
   "outputs": [
    {
     "name": "stdout",
     "output_type": "stream",
     "text": [
      " ***  particle simulation package W3D generating\n",
      " ---  Resetting lattice array sizes\n",
      " ---  Allocating space for particles\n",
      " ---  Loading particles\n",
      " ---  Setting charge density\n",
      " ---  done\n",
      " ---  Allocating Win_Moments\n",
      " ---  Allocating Z_Moments\n",
      " ---  Allocating Lab_Moments\n",
      " ---  generating intercepts for mglevel = 0\n",
      " ---  (nx,ny,nz)=(320,360,4), (dx,dy,dz)=(0.999975,0.999977777778,1.0)\n",
      " ---  boxlo=(-159.996,-179.996,799.0), boxhi=(159.996,179.996,803.0)\n",
      " ---  surface_boxlo=(-160.0,-180.0,800.0), surface_boxhi=(160.0,180.0,802.0)\n",
      " ---  generating xintercepts ...\n",
      " ---  generating yintercepts ...\n",
      " ---  generating zintercepts ...\n",
      " ---  generating intercepts for mglevel = 1\n",
      " ---  (nx,ny,nz)=(160,180,3), (dx,dy,dz)=(1.99995,1.99995555556,2.0)\n",
      " ---  boxlo=(-159.996,-179.996,798.0), boxhi=(159.996,179.996,804.0)\n",
      " ---  surface_boxlo=(-160.0,-180.0,800.0), surface_boxhi=(160.0,180.0,802.0)\n",
      " ---  generating xintercepts ...\n",
      " ---  generating yintercepts ...\n",
      " ---  generating zintercepts ...\n",
      " ---  generating intercepts for mglevel = 2\n",
      " ---  (nx,ny,nz)=(80,90,3), (dx,dy,dz)=(3.9999,3.99991111111,4.0)\n",
      " ---  boxlo=(-159.996,-179.996,796.0), boxhi=(159.996,179.996,808.0)\n",
      " ---  surface_boxlo=(-160.0,-180.0,800.0), surface_boxhi=(160.0,180.0,802.0)\n",
      " ---  generating xintercepts ...\n",
      " ---  generating yintercepts ...\n",
      " ---  generating zintercepts ...\n",
      " ---  generating intercepts for mglevel = 3\n",
      " ---  (nx,ny,nz)=(40,46,3), (dx,dy,dz)=(7.9998,7.82591304348,8.0)\n",
      " ---  boxlo=(-159.996,-179.996,792.0), boxhi=(159.996,179.996,816.0)\n",
      " ---  surface_boxlo=(-160.0,-180.0,800.0), surface_boxhi=(160.0,180.0,802.0)\n",
      " ---  generating xintercepts ...\n",
      " ---  generating yintercepts ...\n",
      " ---  generating zintercepts ...\n",
      " ---  generating intercepts for mglevel = 4\n",
      " ---  (nx,ny,nz)=(20,24,4), (dx,dy,dz)=(15.9996,14.9996666667,16.0)\n",
      " ---  boxlo=(-159.996,-179.996,768.0), boxhi=(159.996,179.996,832.0)\n",
      " ---  surface_boxlo=(-160.0,-180.0,800.0), surface_boxhi=(160.0,180.0,802.0)\n",
      " ---  generating xintercepts ...\n",
      " ---  generating yintercepts ...\n",
      " ---  generating zintercepts ...\n",
      " ---  generating intercepts for mglevel = 5\n",
      " ---  (nx,ny,nz)=(10,12,4), (dx,dy,dz)=(31.9992,29.9993333333,32.0)\n",
      " ---  boxlo=(-159.996,-179.996,736.0), boxhi=(159.996,179.996,864.0)\n",
      " ---  surface_boxlo=(-160.0,-180.0,800.0), surface_boxhi=(160.0,180.0,802.0)\n",
      " ---  generating xintercepts ...\n",
      " ---  generating yintercepts ...\n",
      " ---  generating zintercepts ...\n",
      " ---  generating intercepts for mglevel = 6\n",
      " ---  (nx,ny,nz)=(6,6,3), (dx,dy,dz)=(53.332,59.9986666667,61.5384615385)\n",
      " ---  boxlo=(-159.996,-179.996,738.461538462), boxhi=(159.996,179.996,923.076923077)\n",
      " ---  surface_boxlo=(-160.0,-180.0,800.0), surface_boxhi=(160.0,180.0,802.0)\n",
      " ---  generating xintercepts ...\n",
      " ---  generating yintercepts ...\n",
      " ---  generating zintercepts ...\n",
      " ---  generating intercepts for mglevel = 7\n",
      " ---  (nx,ny,nz)=(4,4,3), (dx,dy,dz)=(79.998,89.998,114.285714286)\n",
      " ---  boxlo=(-159.996,-179.996,685.714285714), boxhi=(159.996,179.996,1028.57142857)\n",
      " ---  surface_boxlo=(-160.0,-180.0,800.0), surface_boxhi=(160.0,180.0,802.0)\n",
      " ---  generating xintercepts ...\n",
      " ---  generating yintercepts ...\n",
      " ---  generating zintercepts ...\n",
      "Multigrid: Error converged to   8.957E-07 in    89 v-cycles             \n",
      " ***  particle simulation package W3D running\n",
      "Multigrid: Error converged to   7.613E-07 in     1 v-cycles             \n"
     ]
    }
   ],
   "source": [
    "####################\n",
    "# CONTROL SEQUENCE #\n",
    "####################\n",
    "\n",
    "# prevent gist from starting upon setup\n",
    "top.lprntpara = false\n",
    "top.lpsplots = false\n",
    "\n",
    "top.verbosity = 1      # Reduce solver verbosity\n",
    "solverE.mgverbose = 1  # further reduce output upon stepping - prevents websocket timeouts in Jupyter notebook\n",
    "\n",
    "init_iters = 20000\n",
    "regular_iters = 200\n",
    "\n",
    "init_tol = 1e-6\n",
    "regular_tol = 1e-6\n",
    "\n",
    "# Time Step\n",
    "\n",
    "# initialize field solver and potential field\n",
    "solverE.mgmaxiters = init_iters\n",
    "solverE.mgtol = init_tol\n",
    "package(\"w3d\")\n",
    "generate()\n",
    "\n",
    "step(1)"
   ]
  },
  {
   "cell_type": "code",
   "execution_count": 11,
   "metadata": {},
   "outputs": [
    {
     "data": {
      "image/png": "[encoded data removed]",
      "text/plain": [
       "<Figure size 432x288 with 2 Axes>"
      ]
     },
     "metadata": {
      "needs_background": "light"
     },
     "output_type": "display_data"
    },
    {
     "data": {
      "text/plain": [
       "<Figure size 432x288 with 0 Axes>"
      ]
     },
     "metadata": {},
     "output_type": "display_data"
    }
   ],
   "source": [
    "###############\n",
    "# DIAGNOSTICS #\n",
    "###############\n",
    "\n",
    "phi = solverE.getphi()\n",
    "E = np.sqrt(solverE.getez() ** 2 + solverE.getex() ** 2 + solverE.getey() ** 2)\n",
    "\n",
    "# xy-plane at z = zcent\n",
    "grid_z = 2.000e-6\n",
    "grid_iz = int((grid_z-Z_MIN)/dz)\n",
    "\n",
    "x = np.linspace(X_MIN,X_MAX,NUM_X+1)*1e6\n",
    "y = np.linspace(Y_MIN,Y_MAX,NUM_Y+1)*1e6\n",
    "z = np.linspace(Z_MIN,Z_MAX,NUM_Z+1)*1e6\n",
    "\n",
    "X, Y = np.meshgrid(x,y,indexing='ij')\n",
    "  \n",
    "plt.figure()\n",
    "\n",
    "plt.contourf(X,Y,phi[:,:,grid_iz],20,cmap = cmaps.viridis)\n",
    "plt.colorbar(label = 'Volts')\n",
    "\n",
    "plt.xlabel(r'x position [$\\mu$m]')\n",
    "plt.ylabel(r'y position [$\\mu$m]')\n",
    "ax = plt.gca()\n",
    "ax.set_aspect(1)\n",
    "plt.show()\n",
    "plt.savefig(ofile_prefix+\"_potential.png\", dpi=200)"
   ]
  },
  {
   "cell_type": "code",
   "execution_count": 12,
   "metadata": {},
   "outputs": [
    {
     "data": {
      "image/png": "[encoded data removed]",
      "text/plain": [
       "<Figure size 432x288 with 2 Axes>"
      ]
     },
     "metadata": {
      "needs_background": "light"
     },
     "output_type": "display_data"
    },
    {
     "data": {
      "text/plain": [
       "<Figure size 432x288 with 0 Axes>"
      ]
     },
     "metadata": {},
     "output_type": "display_data"
    }
   ],
   "source": [
    "# phi profile along z for (x=xcent, y=ycent)\n",
    "plt.figure()\n",
    "plt.contourf(X,Y,E[:,:,grid_iz]*1e-6,20,cmap = cmaps.viridis)\n",
    "plt.xlabel(r'x position [$\\mu$m]')\n",
    "plt.ylabel(r'y position [$\\mu$m]')\n",
    "plt.colorbar(label = '[MV/m]')\n",
    "ax = plt.gca()\n",
    "ax.set_aspect(1)\n",
    "plt.show()\n",
    "plt.savefig(ofile_prefix+\"_efield.png\", dpi=200)"
   ]
  },
  {
   "cell_type": "code",
   "execution_count": 11,
   "metadata": {},
   "outputs": [
    {
     "data": {
      "image/png": "[encoded data removed]",
      "text/plain": [
       "<Figure size 432x288 with 2 Axes>"
      ]
     },
     "metadata": {
      "needs_background": "light"
     },
     "output_type": "display_data"
    }
   ],
   "source": [
    "# yz-plane at x = xcent\n",
    "grid_x  = X_MIN + CHANNEL_WIDTH_X*0.5\n",
    "grid_ix = int((grid_x-X_MIN)/dx)\n",
    "grid_y  = Y_MIN + CHANNEL_WIDTH_Y*0.5\n",
    "grid_iy = int((grid_y-Y_MIN)/dy)\n",
    "\n",
    "Z, Y = np.meshgrid(z,y)\n",
    "plt.figure()\n",
    "plt.contourf(Z, Y, phi[grid_ix,:,:],20,cmap = cmaps.viridis)\n",
    "plt.xlabel(r'z position [$\\mu$m]')\n",
    "plt.ylabel(r'y position [$\\mu$m]')\n",
    "clim = [0., CONDUCTOR_VOLTS]\n",
    "plt.clim(clim[0], clim[1])\n",
    "plt.colorbar(label = 'Volts', ticks = np.arange(clim[0], clim[1]+1e-10, 2))\n",
    "plt.gca().set_aspect(1)\n",
    "plt.show()"
   ]
  },
  {
   "cell_type": "code",
   "execution_count": 12,
   "metadata": {},
   "outputs": [],
   "source": [
    "np.save(\"phi_cad_gridded_tec.npy\", phi); np.save(\"E_cad_gridded_tec.npy\", E)"
   ]
  },
  {
   "cell_type": "code",
   "execution_count": null,
   "metadata": {},
   "outputs": [],
   "source": []
  },
  {
   "cell_type": "code",
   "execution_count": null,
   "metadata": {},
   "outputs": [],
   "source": []
  }
 ],
 "metadata": {
  "kernelspec": {
   "display_name": "Python 2",
   "language": "python",
   "name": "python2"
  },
  "language_info": {
   "codemirror_mode": {
    "name": "ipython",
    "version": 2
   },
   "file_extension": ".py",
   "mimetype": "text/x-python",
   "name": "python",
   "nbconvert_exporter": "python",
   "pygments_lexer": "ipython2",
   "version": "2.7.14"
  }
 },
 "nbformat": 4,
 "nbformat_minor": 2
}
