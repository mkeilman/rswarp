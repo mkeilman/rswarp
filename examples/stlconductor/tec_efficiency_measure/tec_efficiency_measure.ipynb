{
 "cells": [
  {
   "cell_type": "markdown",
   "metadata": {},
   "source": [
    "# Run STLconductor TEC efficiency measurement\n",
    "### (Script modified from Nathan and Chris' run_warp.py and gridded_tec_3d.py)\n",
    "### (Warning: \"occlusion\" is currently hard coded in efficiency.py)"
   ]
  },
  {
   "cell_type": "code",
   "execution_count": 1,
   "metadata": {},
   "outputs": [
    {
     "name": "stderr",
     "output_type": "stream",
     "text": [
      "/Users/yhu/.pyenv/versions/2.7.14/envs/warp/lib/python2.7/site-packages/warp/warp.py:79: UserWarning: there was an error importing gist; if this is a problem, restart python and type 'import gist' for details, otherwise Warp will run OK but with no graphics\n",
      "  warnings.warn(\"there was an error importing gist; if this is a problem, restart python and type 'import gist' for details, otherwise Warp will run OK but with no graphics\")\n"
     ]
    },
    {
     "name": "stdout",
     "output_type": "stream",
     "text": [
      "# Warp\n",
      "# Origin date: Fri, 5 Oct 2018 22:42:05 +0000\n",
      "# Local date: Fri, 5 Oct 2018 22:42:05 +0000\n",
      "# Commit hash: 8ade0910\n",
      "# /Users/yhu/.pyenv/versions/2.7.14/envs/warp/lib/python2.7/site-packages/warp/warp.pyc\n",
      "# /Users/yhu/.pyenv/versions/2.7.14/envs/warp/lib/python2.7/site-packages/warp/warpC.so\n",
      "# Tue Feb 26 12:43:49 2019\n",
      "# import warp time 0.538161993027 seconds\n",
      "# For more help, type warphelp()\n"
     ]
    }
   ],
   "source": [
    "import sys\n",
    "# # Path for use on jupyter.radiasoft\n",
    "# sys.path.append('/home/vagrant/jupyter/repos/rswarp/rswarp/run_files/tec/')\n",
    "# # Path for use on local\n",
    "# sys.path.append('/Users/chall/research/github/rswarp/rswarp/run_files/tec/')\n",
    "try:\n",
    "    from gridded_tec_3d import main\n",
    "except ImportError:\n",
    "    try:\n",
    "        from rswarp.run_files.tec.gridded_tec_3d import main\n",
    "    except ImportError:\n",
    "        raise ImportError, \"Could not find rswarp.run_files.tec.gridded_tec_3d\""
   ]
  },
  {
   "cell_type": "code",
   "execution_count": 2,
   "metadata": {},
   "outputs": [],
   "source": [
    "stl_grid_file = \"../grid/simple_tec_grid.stl\"\n",
    "\n",
    "# warp scraper type: \"regular\" or \"fast\"\n",
    "# Warning: warp cannot collect particle data for \"fast\" scraper\n",
    "# so current collection for \"fast\" scraper is always 0\n",
    "grid_scraper = \"regular\"\n",
    "\n",
    "# Values based on Voesch et al.\n",
    "V_grid = 10.0\n",
    "rho_ew = 1.1984448e-03\n",
    "T_em = 1414 + 273.15\n",
    "phi_em = 2.174\n",
    "T_coll = 50 + 273.15\n",
    "phi_coll = 0.381\n",
    "rho_cw = 1.1984448e-03\n",
    "gap_distance = 10e-6\n",
    "channel_width = 7e-6 - 2e-9\n",
    "rho_load = 0.01648048  # matched for phi_em = 2.174, phi_coll = 0.381, and  rho_cw = rho_ew = 1.1984448e-03\n",
    "dx = (7e-8, 7e-8, 5e-8)\n",
    "run_id = 0"
   ]
  },
  {
   "cell_type": "code",
   "execution_count": 3,
   "metadata": {},
   "outputs": [
    {
     "name": "stdout",
     "output_type": "stream",
     "text": [
      "Channel width: 6.998e-06, DX = 6.998e-08\n",
      "Channel width: 6.998e-06, DY = 6.998e-08\n",
      "Channel length: 1e-05, DZ = 5e-08\n",
      "beam current expected: 5.36242678522e-05, current density 1094998.43731\n",
      "child-langmuir  limit: 3.61442980396e-05, current density 738060.424066\n",
      " ---  STL conductor surface mesh: # of vertices and elements = (296, 732)\n",
      " ---  STL conductor surface mesh: extent -> (xmin,ymin,zmin)=(-3.50000004801e-06,-3.50000004801e-06,4.94999989466e-06), (xmax,ymax,zmax)=(3.50000004801e-06,3.50000004801e-06,5.04999997398e-06)\n",
      " ---  STL conductor surface mesh: triangle element angles -> (min,max,median)=(0.0675020628005,176.855041531,84.289402348) deg\n",
      " ***  particle simulation package W3D generating\n",
      " ---  Resetting lattice array sizes\n",
      " ---  Allocating space for particles\n",
      " ---  Loading particles\n",
      "ERROR: injctint, npinject is zero, no particles will be injected.\n",
      " ---  Setting charge density\n",
      " ---  done\n",
      " ---  Allocating Win_Moments\n",
      " ---  Allocating Z_Moments\n",
      " ---  Allocating Lab_Moments\n",
      "weights (background) (measurement): 0.0731597054883, 0.0731597054883\n",
      " ***  particle simulation package W3D running\n",
      "Completed Initialization on Step 976\n",
      "Initialization run time: 3168.17886209\n",
      " Steady State Reached.\n",
      "Starting efficiency recording for 10 crossing times.\n",
      "This will be 2430 steps\n",
      "crossing_wall_time estimate: 3521.3288634, for 243 steps\n",
      "wind-down loop time estimate: 7071.75961823, for 121 steps\n"
     ]
    },
    {
     "name": "stderr",
     "output_type": "stream",
     "text": [
      "/Users/yhu/.pyenv/versions/2.7.14/envs/warp/lib/python2.7/site-packages/warp/utils/appendablearray.py:178: FutureWarning: Using a non-tuple sequence for multidimensional indexing is deprecated; use `arr[tuple(seq)]` instead of `arr[seq]`. In the future this will be interpreted as an array index, `arr[np.array(seq)]`, which will result either in an error or a different result.\n",
      "  self._array[ss] = oldarray[ss]\n"
     ]
    },
    {
     "name": "stdout",
     "output_type": "stream",
     "text": [
      "Measurement: 1 of 10 intervals completed. Interval run time: 939.000706911 s\n",
      "Measurement: 2 of 10 intervals completed. Interval run time: 902.168143034 s\n",
      "Measurement: 3 of 10 intervals completed. Interval run time: 886.541151047 s\n",
      "Measurement: 4 of 10 intervals completed. Interval run time: 882.348973036 s\n",
      "Measurement: 5 of 10 intervals completed. Interval run time: 882.226701021 s\n",
      "Measurement: 6 of 10 intervals completed. Interval run time: 877.475573063 s\n",
      "Measurement: 7 of 10 intervals completed. Interval run time: 875.929148912 s\n",
      "Measurement: 8 of 10 intervals completed. Interval run time: 874.151017904 s\n",
      "Measurement: 9 of 10 intervals completed. Interval run time: 873.38322401 s\n",
      "Measurement: 10 of 10 intervals completed. Interval run time: 876.356758118 s\n",
      "Backwards particles: 0\n",
      " Wind-down: Taking 121 steps, On Step: 4011, 25716.0 Particles Left\n",
      " Wind-down: Taking 121 steps, On Step: 4132, 14000.0 Particles Left\n",
      " Wind-down: Taking 121 steps, On Step: 4253, 5265.0 Particles Left\n",
      " Wind-down: Taking 121 steps, On Step: 4374, 0.0 Particles Left\n",
      "Etot: 9.73901800563e-14\n",
      "Efficiency\n",
      "Power lost in wiring: 12.597063595144594\n",
      "Power lost to radiation: 4.58973229709\n",
      "Power carried away by electrons: 273.91260582275726\n",
      "Power produced in the load: 102.92472289989823\n",
      "Power lost to maintain gate voltage: 304.72951400156194\n",
      "Overall Efficiency: -0.693250449547\n",
      "Total steps: 4374\n"
     ]
    }
   ],
   "source": [
    "main(V_grid, rho_ew, T_em, phi_em, T_coll, phi_coll, rho_cw, gap_distance, rho_load,\n",
    "     run_id,\n",
    "     channel_width=channel_width,\n",
    "     injection_type=2, random_seed=True,\n",
    "     install_grid=True, grid_file=stl_grid_file, grid_scraper=grid_scraper,\n",
    "     dx_want=dx[0], dy_want=dx[1], dz_want=dx[2],\n",
    "     max_wall_time=1e9,\n",
    "     particle_diagnostic_switch=True, field_diagnostic_switch=True, lost_diagnostic_switch=False)"
   ]
  },
  {
   "cell_type": "code",
   "execution_count": null,
   "metadata": {},
   "outputs": [],
   "source": []
  },
  {
   "cell_type": "code",
   "execution_count": null,
   "metadata": {},
   "outputs": [],
   "source": []
  }
 ],
 "metadata": {
  "kernelspec": {
   "display_name": "Python 2",
   "language": "python",
   "name": "python2"
  },
  "language_info": {
   "codemirror_mode": {
    "name": "ipython",
    "version": 2
   },
   "file_extension": ".py",
   "mimetype": "text/x-python",
   "name": "python",
   "nbconvert_exporter": "python",
   "pygments_lexer": "ipython2",
   "version": "2.7.14"
  }
 },
 "nbformat": 4,
 "nbformat_minor": 2
}
