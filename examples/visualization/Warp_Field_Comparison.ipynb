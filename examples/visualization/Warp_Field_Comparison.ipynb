{
 "cells": [
  {
   "cell_type": "markdown",
   "metadata": {},
   "source": [
    "# Testing Conductor Fields in Presence of MR\n",
    "\n",
    "#### Notebook provides examples of:\n",
    "- Setting up multiple, overlapping mesh refinement patches\n",
    "- Making manual lineout plots of field data\n",
    "- Making a manual plot of conductors on domain (see ConductorPlots for automatic functionality)\n",
    "- Use of lineout widget for field/potential plots\n",
    "\n",
    "#### Simulation Description\n",
    "Simulation domain is x=120 nm by z=10,000 nm. The grid is included as a single post which is grid_z=100 nm by grid_x=12 nm. The conductor at the top of the grid is z=10 by x=12 nm, only this conductor influences the field solve, however, the whole grid structure will act as a particle sink, as will the cathode and anode. \n",
    "\n",
    "Grid Voltage = 20.0 V\n",
    "\n",
    "Anode Voltage = -0.5 V\n",
    "\n",
    "Lineouts are plotted in representation of the simulation domain along with mesh refinement patches. \n",
    "Example line plots are shown for Ex(x) and Ez(z) on parent solver and child MR patches."
   ]
  },
  {
   "cell_type": "code",
   "execution_count": 1,
   "metadata": {},
   "outputs": [],
   "source": [
    "% matplotlib notebook"
   ]
  },
  {
   "cell_type": "code",
   "execution_count": 2,
   "metadata": {},
   "outputs": [
    {
     "name": "stdout",
     "output_type": "stream",
     "text": [
      "# Warp\n",
      "# Origin date: Wed, 6 Dec 2017 00:10:15 +0000\n",
      "# Local date: Wed, 6 Dec 2017 00:10:15 +0000\n",
      "# Commit hash: 27e5862\n",
      "# /usr/local/lib/python2.7/site-packages/warp/warp.pyc\n",
      "# /usr/local/lib/python2.7/site-packages/warp/warpC.so\n",
      "# Wed May  2 13:59:15 2018\n",
      "# import warp time 0.337334871292 seconds\n",
      "# For more help, type warphelp()\n"
     ]
    }
   ],
   "source": [
    "from __future__ import division\n",
    "import sys\n",
    "del sys.argv[1:] #  Necessry to run 'from warp import *' in IPython notebook without conflict.\n",
    "from warp import * \n",
    "import numpy as np\n",
    "import matplotlib.pyplot as plt\n",
    "import os\n",
    "import pickle\n",
    "from re import findall\n",
    "from datetime import datetime\n",
    "from scipy.special import erfinv\n",
    "from warp.data_dumping.openpmd_diag import ParticleDiagnostic\n",
    "from rswarp.diagnostics import FieldDiagnostic\n",
    "from rswarp.diagnostics.plotting import FieldLineout\n",
    "from rswarp.utilities.file_utils import cleanupPrevious\n",
    "from warp.particles.singleparticle import TraceParticle"
   ]
  },
  {
   "cell_type": "code",
   "execution_count": 3,
   "metadata": {},
   "outputs": [],
   "source": [
    "# Plotting imports\n",
    "import matplotlib.animation as anim\n",
    "import matplotlib.lines as mlines\n",
    "import types\n",
    "import matplotlib as mpl\n",
    "from matplotlib import gridspec\n",
    "import matplotlib.patches as patches\n",
    "import h5py\n",
    "\n",
    "# Constants imports\n",
    "from scipy.constants import e, m_e, c, k\n",
    "kb_eV = 8.6173324e-5  # Bolztmann constant in eV/K\n",
    "kb_J = k  # Boltzmann constant in J/K\n",
    "m = m_e"
   ]
  },
  {
   "cell_type": "markdown",
   "metadata": {},
   "source": [
    "# Diagnostic Directories"
   ]
  },
  {
   "cell_type": "code",
   "execution_count": 4,
   "metadata": {},
   "outputs": [],
   "source": [
    "diagDir = 'diags/xzsolver/hdf5'\n",
    "field_base_path = 'diags/fields/'\n",
    "child0 = 'diags/fields/child0'\n",
    "diagFDir = {'magnetic':'diags/fields/magnetic','electric':'diags/fields/electric', 'child0': child0}\n",
    "\n",
    "# Cleanup previous files\n",
    "cleanupPrevious(diagDir,diagFDir)"
   ]
  },
  {
   "cell_type": "markdown",
   "metadata": {},
   "source": [
    "# Grid Parameters"
   ]
  },
  {
   "cell_type": "markdown",
   "metadata": {},
   "source": [
    "### Mesh Refinement "
   ]
  },
  {
   "cell_type": "code",
   "execution_count": 5,
   "metadata": {},
   "outputs": [],
   "source": [
    "mr_flag = True # Turn MR on/off\n",
    "level = 2 # Can set level = 2 for 2 patches, else 1 patch applied"
   ]
  },
  {
   "cell_type": "code",
   "execution_count": 6,
   "metadata": {},
   "outputs": [],
   "source": [
    "mesh_factor = 1 # Scaling for number of cells on parent mesh"
   ]
  },
  {
   "cell_type": "code",
   "execution_count": 7,
   "metadata": {},
   "outputs": [],
   "source": [
    "# GLOBAL USER PARAMETERS\n",
    "\n",
    "# Injection strategy\n",
    "top.inject = 0               # 0 no injection\n",
    "                             # 1 means constant; 2 means space-charge limited injection; 4 means thermionic;\n",
    "                             # 6 means user-specified; 5 and 8 are balances between thermionic and SC-limited\n",
    "\n",
    "# Voltages\n",
    "\n",
    "GRID_VOLTAGE = 20.0\n",
    "ANODE_VOLTAGE = -0.5\n",
    "        \n",
    "        \n",
    "# Cathode settings\n",
    "PLATE_SPACING = 10e-6 #plate spacing\n",
    "CHANNEL_WIDTH = 120e-9 #width of simulation box\n",
    "\n",
    "# Dimensions\n",
    "X_MAX = CHANNEL_WIDTH*0.5\n",
    "X_MIN = -1.*X_MAX\n",
    "Y_MAX = CHANNEL_WIDTH*0.5\n",
    "Y_MIN = -1.*Y_MAX\n",
    "Z_MIN = 0.\n",
    "Z_MAX = PLATE_SPACING\n",
    "\n",
    "\n",
    "# Grid parameters (Parent Grid)\n",
    "NUM_X = 12 * mesh_factor\n",
    "NUM_Y = 12 * mesh_factor\n",
    "NUM_Z = 1000 * mesh_factor\n",
    "\n",
    "# z step size\n",
    "dz =  (Z_MAX - Z_MIN)/NUM_Z\n",
    "\n",
    "Z_PART_MIN = dz / 8.  # starting particle z value\n",
    "top.dt = 2.5e-15"
   ]
  },
  {
   "cell_type": "markdown",
   "metadata": {},
   "source": [
    "# Solver Geometry"
   ]
  },
  {
   "cell_type": "code",
   "execution_count": 8,
   "metadata": {},
   "outputs": [],
   "source": [
    "w3d.solvergeom = w3d.XZgeom"
   ]
  },
  {
   "cell_type": "markdown",
   "metadata": {},
   "source": [
    "# Grid and Boundary Conditions"
   ]
  },
  {
   "cell_type": "code",
   "execution_count": 9,
   "metadata": {},
   "outputs": [],
   "source": [
    "# Set boundary conditions\n",
    "# Longitudinal conditions overriden by conducting plates\n",
    "w3d.bound0  = neumann\n",
    "w3d.boundnz = dirichlet\n",
    "w3d.boundxy = periodic \n",
    "# Particles boundary conditions\n",
    "top.pbound0  = absorb\n",
    "top.pboundnz = absorb\n",
    "top.pboundxy = periodic\n",
    "\n",
    "# Set grid boundaries\n",
    "w3d.xmmin = X_MIN\n",
    "w3d.xmmax = X_MAX\n",
    "w3d.zmmin = 0. \n",
    "w3d.zmmax = Z_MAX\n",
    "\n",
    "# Set grid counts\n",
    "w3d.nx = NUM_X\n",
    "w3d.nz = NUM_Z\n",
    "\n",
    "parent_zmesh = np.linspace(0,Z_MAX,NUM_Z+1) #holds the z-axis grid points in an array"
   ]
  },
  {
   "cell_type": "markdown",
   "metadata": {},
   "source": [
    "# Field Solver"
   ]
  },
  {
   "cell_type": "code",
   "execution_count": 10,
   "metadata": {},
   "outputs": [],
   "source": [
    "# Set up fieldsolver\n",
    "f3d.mgtol = 1e-6 # Multigrid solver convergence tolerance, in volts. 1 uV is default in Warp.\n",
    "if mr_flag:\n",
    "    solverE = MRBlock2D()\n",
    "    registersolver(solverE)\n",
    "    solverE.mgverbose = -1\n",
    "else:\n",
    "    solverE = MultiGrid2D()\n",
    "    registersolver(solverE)\n",
    "    solverE.mgverbose = -1 # Don't print solver convergence information"
   ]
  },
  {
   "cell_type": "markdown",
   "metadata": {},
   "source": [
    "### Mesh Refinement Patches\n",
    "Current length of MR patch set to 2*column length. This is a bit arbritrary, could be reduced in length possibly."
   ]
  },
  {
   "cell_type": "code",
   "execution_count": 11,
   "metadata": {},
   "outputs": [],
   "source": [
    "# Define grid parameters, will be needed to set MR patch\n",
    "column_width = 12e-9\n",
    "column_length = 90e-9\n",
    "grid_length =  10e-9\n",
    "\n",
    "if mr_flag:\n",
    "    guardx = 0 # No guard cells in x since it extends to mesh bounds\n",
    "    guardz = 2\n",
    "    refinement_level = 10\n",
    "    child0 = solverE.addchild(mins=[w3d.xmmin, 0., PLATE_SPACING - 2 * column_length],\n",
    "                              maxs=[w3d.xmmax, 0., PLATE_SPACING],\n",
    "                              nguard=[guardx, 0, guardz],refinement=[refinement_level, 1, refinement_level])\n",
    "    child0.mgverbose = -1 # Need separate call to prevent child solver printout\n",
    "    \n",
    "    if level == 2:\n",
    "        guardx = 0 # No guard cells in x since it extends to mesh bounds\n",
    "        guardz = 2\n",
    "        refinement_level = 10\n",
    "        xmin_child2 = -2\n",
    "        child1 = child0.addchild(mins=[-20e-9, 0., PLATE_SPACING - 2 * column_length],\n",
    "                                  maxs=[20e-9, 0., PLATE_SPACING],\n",
    "                                  nguard=[guardx, 0, guardz],refinement=[refinement_level, 1, refinement_level])\n",
    "        child1.mgverbose = -1 # Need separate call to prevent child solver printout"
   ]
  },
  {
   "cell_type": "markdown",
   "metadata": {},
   "source": [
    "# Conducting boundaries and Scrapers  \n",
    "\n",
    "These must be installed after registering the field solver."
   ]
  },
  {
   "cell_type": "code",
   "execution_count": 12,
   "metadata": {},
   "outputs": [],
   "source": [
    "# Create source conductors\n",
    "source = ZPlane(zcent=w3d.zmmin,zsign=-1.,voltage=0.)\n",
    "solverE.installconductor(source, dfill=largepos)\n",
    "\n",
    "# Create ground plate\n",
    "plate = ZPlane(voltage=ANODE_VOLTAGE, zcent=PLATE_SPACING)\n",
    "solverE.installconductor(plate, dfill=largepos)\n",
    "\n",
    "# Install Grid Support Column\n",
    "column = Box(column_width, 1., column_length,\n",
    "             voltage=0., xcent=0., ycent=0.0, zcent=PLATE_SPACING - column_length / 2.)\n",
    "\n",
    "# Install Grid\n",
    "grid = Box(column_width, 10., grid_length, voltage=GRID_VOLTAGE, \n",
    "           xcent=0., ycent=0.0, zcent=PLATE_SPACING - column_length - grid_length / 2.)\n",
    "solverE.installconductor(grid)\n",
    "\n",
    "# Setup the particle scraper\n",
    "scraper = ParticleScraper([source, plate, column, grid], lcollectlpdata=True)"
   ]
  },
  {
   "cell_type": "code",
   "execution_count": 13,
   "metadata": {},
   "outputs": [],
   "source": [
    "#print (PLATE_SPACING - 2 * column_length) * w3d.nz / (w3d.zmmax - w3d.zmmin) - guardz"
   ]
  },
  {
   "cell_type": "markdown",
   "metadata": {},
   "source": [
    "# Particle, Lost Particle, and Field Diagnostics"
   ]
  },
  {
   "cell_type": "markdown",
   "metadata": {},
   "source": [
    "Not installing particle diagnstostics right now while testing MR fields."
   ]
  },
  {
   "cell_type": "code",
   "execution_count": 14,
   "metadata": {},
   "outputs": [],
   "source": [
    "particleperiod = 100\n",
    "particle_diagnostic_0 = ParticleDiagnostic(period = particleperiod, top = top, w3d = w3d,\n",
    "                                          species = {species.name: species for species in listofallspecies},\n",
    "                                          comm_world=comm_world, lparallel_output=False, write_dir = diagDir[:-4])\n",
    "\n",
    "fieldperiod = 100\n",
    "efield_diagnostic_0 = FieldDiagnostic.ElectrostaticFields(solver=solverE, top=top, w3d=w3d, \n",
    "                                                        comm_world=comm_world, period=fieldperiod)\n",
    "installafterstep(efield_diagnostic_0.write)\n",
    "\n",
    "if mr_flag:\n",
    "    efield_diagnostic_1 = FieldDiagnostic.ElectrostaticFields(solver=child0, top=top, w3d=w3d, \n",
    "                                                              write_dir='diags/fields/child0', \n",
    "                                                              comm_world=comm_world, period=fieldperiod)\n",
    "    installafterstep(efield_diagnostic_1.write)\n",
    "    if level == 2:\n",
    "        efield_diagnostic_2 = FieldDiagnostic.ElectrostaticFields(solver=child1, top=top, w3d=w3d, \n",
    "                                                              write_dir='diags/fields/child1', \n",
    "                                                              comm_world=comm_world, period=fieldperiod)\n",
    "        installafterstep(efield_diagnostic_2.write)"
   ]
  },
  {
   "cell_type": "markdown",
   "metadata": {},
   "source": [
    "# Generate PIC code and Run Simulation"
   ]
  },
  {
   "cell_type": "code",
   "execution_count": 15,
   "metadata": {},
   "outputs": [
    {
     "name": "stdout",
     "output_type": "stream",
     "text": [
      " ***  particle simulation package W3D generating\n",
      " ---  Resetting lattice array sizes\n",
      " ---  Allocating space for particles\n",
      " ---  Loading particles\n",
      " ---  Setting charge density\n",
      " ---  done\n",
      " ---  Allocating Win_Moments\n",
      " ---  Allocating Z_Moments\n",
      " ---  Allocating Lab_Moments\n"
     ]
    }
   ],
   "source": [
    "# Prevent GIST from starting upon setup\n",
    "top.lprntpara = false\n",
    "top.lpsplots = false\n",
    "\n",
    "top.verbosity = 0 # Reduce solver verbosity \n",
    "package(\"w3d\")\n",
    "generate()"
   ]
  },
  {
   "cell_type": "code",
   "execution_count": 16,
   "metadata": {},
   "outputs": [
    {
     "name": "stdout",
     "output_type": "stream",
     "text": [
      " ***  particle simulation package W3D running\n"
     ]
    }
   ],
   "source": [
    "step(100)"
   ]
  },
  {
   "cell_type": "markdown",
   "metadata": {},
   "source": [
    "# Analysis"
   ]
  },
  {
   "cell_type": "code",
   "execution_count": 17,
   "metadata": {},
   "outputs": [],
   "source": [
    "def set_patch(artist, xcorner, ycorner, xlength, ylength, \n",
    "              set_facecolor='grey',set_edgecolor='grey',set_alpha=1., scale=1):\n",
    "    \n",
    "    artist.add_patch(\n",
    "    patches.Rectangle(\n",
    "        (xcorner * scale, ycorner * scale),\n",
    "        xlength * scale,\n",
    "        ylength * scale,\n",
    "        alpha=set_alpha,\n",
    "        facecolor=set_facecolor,\n",
    "        edgecolor=set_edgecolor  \n",
    "        )\n",
    "    )"
   ]
  },
  {
   "cell_type": "markdown",
   "metadata": {},
   "source": [
    "### Set lineout positions"
   ]
  },
  {
   "cell_type": "code",
   "execution_count": 18,
   "metadata": {},
   "outputs": [],
   "source": [
    "# Linouts parallel to z\n",
    "x_positions = [-2e-08, 0.0, 4e-08]\n",
    "# Lineouts parallel to x\n",
    "z_positions = [9.9e-06, 9.91e-06, 9.92e-06]"
   ]
  },
  {
   "cell_type": "markdown",
   "metadata": {},
   "source": [
    "### Convert position to array index"
   ]
  },
  {
   "cell_type": "code",
   "execution_count": 19,
   "metadata": {},
   "outputs": [],
   "source": [
    "def return_index(lbound, ubound, cells, position):\n",
    "    \"\"\"\n",
    "    Give the position of a node on a 1D mesh this function will return the corresponding index\n",
    "        of that node in an array that holds the node positions.\n",
    "        \n",
    "    lbound: Lower bound of mesh domain.\n",
    "    ubound: Upper bound of mesh domain.\n",
    "    cells: Number of cells along axis in mesh domain.\n",
    "    position: Position of mesh node to find corresponding index for.\n",
    "    \n",
    "    returns\n",
    "     Integer\n",
    "    \"\"\"\n",
    "    \n",
    "    index = (position - lbound) * cells / (ubound - lbound) \n",
    "    \n",
    "    return int(index)"
   ]
  },
  {
   "cell_type": "markdown",
   "metadata": {},
   "source": [
    "### Plot positions where lineouts will be shown <a id='locations'></a>"
   ]
  },
  {
   "cell_type": "code",
   "execution_count": 20,
   "metadata": {},
   "outputs": [
    {
     "data": {
      "image/png": "[encoded data removed]",
      "text/plain": [
       "<Figure size 864x432 with 3 Axes>"
      ]
     },
     "metadata": {},
     "output_type": "display_data"
    }
   ],
   "source": [
    "fig = plt.figure(figsize=(12,6))\n",
    "# Set up plotting region\n",
    "gs = gridspec.GridSpec(1, 15)\n",
    "ax1 = plt.subplot(gs[0,0:8])\n",
    "ax2 = plt.subplot(gs[0,8:12])\n",
    "ax3 = plt.subplot(gs[0,12:13])\n",
    "\n",
    "ax1.set_title(\"Simulation Region with Mesh Refinement\")\n",
    "ax2.set_title(\"Zoomed in on\\n Mesh Refinement Region\")\n",
    "\n",
    "# Set plot scales and bounds\n",
    "scale = 1e6\n",
    "ax1.set_xlim(Z_MIN * scale, Z_MAX * scale)\n",
    "ax1.set_ylim(X_MIN * scale, X_MAX * scale)\n",
    "\n",
    "ax1.set_xlabel('z ($\\mu$m)')\n",
    "ax1.set_ylabel('x ($\\mu$m)')\n",
    "\n",
    "ax2.set_xlim(9.80, 10.0)\n",
    "ax2.set_ylim(X_MIN * scale, X_MAX * scale)\n",
    "\n",
    "ax2.set_xlabel('z ($\\mu$m)')\n",
    "ax2.set_yticklabels([])\n",
    "\n",
    "xc = PLATE_SPACING - (column_length + grid_length)\n",
    "yc = -column_width / 2.\n",
    "\n",
    "# Add patches to represent conductors/dielectric regions\n",
    "set_patch(ax1, xc, yc, (column_length + grid_length), column_width, \n",
    "              set_facecolor='grey',set_edgecolor='grey',set_alpha=1., scale=scale)\n",
    "set_patch(ax2, xc, yc, (column_length + grid_length), column_width, \n",
    "              set_facecolor='grey',set_edgecolor='grey',set_alpha=1., scale=scale)\n",
    "\n",
    "xc1 = PLATE_SPACING - 2 * column_length\n",
    "yc1 = X_MIN\n",
    "\n",
    "set_patch(ax1, xc1, yc1, 2 * (column_length + grid_length), (X_MAX - X_MIN), \n",
    "              set_facecolor='#2ca02c',set_edgecolor='#2ca02c',set_alpha=0.4, scale=scale)\n",
    "set_patch(ax2, xc1, yc1, 2 * (column_length + grid_length), (X_MAX - X_MIN), \n",
    "              set_facecolor='#2ca02c',set_edgecolor='#2ca02c',set_alpha=0.4, scale=scale)\n",
    "\n",
    "xc2 = PLATE_SPACING - 2 * column_length - guardz * (w3d.zmmax / w3d.nz)\n",
    "yc2 = X_MIN\n",
    "\n",
    "set_patch(ax1, xc2, yc1, (xc1 - xc2), (X_MAX - X_MIN), \n",
    "              set_facecolor='#1f77b4',set_edgecolor='#1f77b4',set_alpha=0.4, scale=scale)\n",
    "set_patch(ax2, xc2, yc1, (xc1 - xc2), (X_MAX - X_MIN), \n",
    "              set_facecolor='#1f77b4',set_edgecolor='#1f77b4',set_alpha=0.4, scale=scale)\n",
    "\n",
    "set_patch(ax1, xc1, -20e-9, 2 * (column_length + grid_length), 40e-9, \n",
    "              set_facecolor='#9467bd',set_edgecolor='#9467bd',set_alpha=0.6, scale=scale)\n",
    "set_patch(ax2, xc1, -20e-9, 2 * (column_length + grid_length), 40e-9, \n",
    "              set_facecolor='#9467bd',set_edgecolor='#9467bd',set_alpha=0.6, scale=scale)\n",
    "\n",
    "\n",
    "# Plot lines on plot that represent where the lineout plots of the fields are coming from\n",
    "# Plot lines parallel to z\n",
    "for xpos, cx in zip(x_positions, ['b', 'r', 'g']):\n",
    "    ax1.plot(solverE.zmesh * scale, np.ones_like(solverE.zmesh) * xpos * scale, c=cx)\n",
    "# Plot lines parallel to x\n",
    "for zpos, cz in zip(z_positions, ['b', 'r', 'g']):\n",
    "    ax2.plot(np.ones_like(solverE.xmesh) * zpos * scale, solverE.xmesh * scale, c=cz)\n",
    "\n",
    "mr_0 = patches.Patch(color='#2ca02c', label='MR x10')\n",
    "mr_1 = patches.Patch(color='#9467bd', label='MR x100')\n",
    "guard1 = patches.Patch(color='#1f77b4', label='Guard Cells')\n",
    "grid = patches.Patch(color='grey', label='Post + Grid')\n",
    "e1 = mlines.Line2D([], [], color='b',label='Field Position #1')\n",
    "e2 = mlines.Line2D([], [], color='r',label='Field Position #2')\n",
    "e3 = mlines.Line2D([], [], color='g',label='Field Position #3')\n",
    "\n",
    "\n",
    "ax3.legend(handles=[mr_0, mr_1, guard1, grid, e1, e2, e3],fontsize=10,loc=6)\n",
    "ax3.axis('off')\n",
    "plt.tight_layout()\n",
    "plt.show()"
   ]
  },
  {
   "cell_type": "markdown",
   "metadata": {},
   "source": [
    "### Above: User positions line along which they want to see the electric field data (E_x or E_z) or the potential.\n"
   ]
  },
  {
   "cell_type": "markdown",
   "metadata": {},
   "source": [
    "## Load Field/Potential Diagnostic Data From Files"
   ]
  },
  {
   "cell_type": "code",
   "execution_count": 21,
   "metadata": {},
   "outputs": [],
   "source": [
    "# Load parent fields\n",
    "num_steps = '0' * (5 - len(str(top.it))) +str(top.it)\n",
    "fielddata_path = 'diags/fields/electric/data{}.h5'.format(num_steps)\n",
    "fielddata_file = os.path.splitext(os.path.split(fielddata_path)[1])[0]\n",
    "step_number = int(findall(r'\\d+', fielddata_file)[0])\n",
    "data_efield = h5py.File(fielddata_path, 'r')\n",
    "\n",
    "Ex = data_efield['data/%s/meshes/E' % (step_number)][0]\n",
    "Ey = data_efield['data/%s/meshes/E' % (step_number)][1]\n",
    "Ez = data_efield['data/%s/meshes/E' % (step_number)][2]\n",
    "\n",
    "phi = data_efield['data/%s/meshes/phi'% (step_number)]\n",
    "E = data_efield['data/%s/meshes/E' % (step_number)]"
   ]
  },
  {
   "cell_type": "code",
   "execution_count": 22,
   "metadata": {},
   "outputs": [],
   "source": [
    "# Load child fields\n",
    "num_steps = '0' * (5 - len(str(top.it))) +str(top.it)\n",
    "fielddata_path = 'diags/fields/child0/data{}.h5'.format(num_steps)\n",
    "fielddata_file = os.path.splitext(os.path.split(fielddata_path)[1])[0]\n",
    "step_number = int(findall(r'\\d+', fielddata_file)[0])\n",
    "data_efield = h5py.File(fielddata_path, 'r')\n",
    "\n",
    "child0_Ex = data_efield['data/%s/meshes/E' % (step_number)][0]\n",
    "child0_Ey = data_efield['data/%s/meshes/E' % (step_number)][1]\n",
    "child0_Ez = data_efield['data/%s/meshes/E' % (step_number)][2]\n",
    "\n",
    "child0_phi = data_efield['data/%s/meshes/phi'% (step_number)]\n",
    "child0_E = data_efield['data/%s/meshes/E' % (step_number)]"
   ]
  },
  {
   "cell_type": "code",
   "execution_count": 23,
   "metadata": {},
   "outputs": [],
   "source": [
    "# Load child fields\n",
    "num_steps = '0' * (5 - len(str(top.it))) +str(top.it)\n",
    "fielddata_path = 'diags/fields/child1/data{}.h5'.format(num_steps)\n",
    "fielddata_file = os.path.splitext(os.path.split(fielddata_path)[1])[0]\n",
    "step_number = int(findall(r'\\d+', fielddata_file)[0])\n",
    "data_efield = h5py.File(fielddata_path, 'r')\n",
    "\n",
    "child1_Ex = data_efield['data/%s/meshes/E' % (step_number)][0]\n",
    "child1_Ey = data_efield['data/%s/meshes/E' % (step_number)][1]\n",
    "child1_Ez = data_efield['data/%s/meshes/E' % (step_number)][2]\n",
    "\n",
    "child1_phi = data_efield['data/%s/meshes/phi'% (step_number)]\n",
    "child1_E = data_efield['data/%s/meshes/E' % (step_number)]"
   ]
  },
  {
   "cell_type": "markdown",
   "metadata": {},
   "source": [
    "# Fields"
   ]
  },
  {
   "cell_type": "markdown",
   "metadata": {},
   "source": [
    "### Plots of field data along the [Lineout Locations](#locations)\n",
    "\n",
    "First plot $E_x$ field as a function of position along the x-axis at several locations along the z-axis.\n",
    "\n",
    "Second plot $E_z$ field as a function of position along the z-axis at several locations along the x-axis."
   ]
  },
  {
   "cell_type": "code",
   "execution_count": 24,
   "metadata": {},
   "outputs": [
    {
     "data": {
      "image/png": "[encoded data removed]",
      "text/plain": [
       "<Figure size 864x432 with 1 Axes>"
      ]
     },
     "metadata": {},
     "output_type": "display_data"
    }
   ],
   "source": [
    "fig1 = plt.figure(figsize=(12,6))\n",
    "\n",
    "plt.xlabel(\"x (nm)\")\n",
    "plt.ylabel(\"Ex (V/m)\")\n",
    "plt.title(\"Comparison of $E_x$ on Parent and Child Grid\")\n",
    "\n",
    "scale = 1e9\n",
    "\n",
    "for zpos, c, cell in zip(z_positions, ['b', 'r', 'g'], [990, 991, 992]):\n",
    "    index = return_index(solverE.zmmin, solverE.zmmax, np.size(solverE.zmesh), zpos)\n",
    "    plt.plot(solverE.xmesh * scale, Ex[:, index], c=c, label='Parent Cell:' + '{}'.format(cell))\n",
    "\n",
    "for zpos, c, cell in zip(z_positions, ['b', 'r', 'g'], [990, 991, 992]):\n",
    "    index = return_index(child0.zmmin, child0.zmmax, np.size(child0.zmesh), zpos)\n",
    "    plt.plot(child0.xmesh * scale, child0_Ex[:, index], '--',c=c, label='Parent Cell:' + '{}'.format(cell))\n",
    "\n",
    "plt.legend(loc='best', fontsize=10)\n",
    "plt.show()"
   ]
  },
  {
   "cell_type": "code",
   "execution_count": 25,
   "metadata": {},
   "outputs": [
    {
     "data": {
      "image/png": "[encoded data removed]",
      "text/plain": [
       "<Figure size 864x432 with 1 Axes>"
      ]
     },
     "metadata": {},
     "output_type": "display_data"
    }
   ],
   "source": [
    "fig = plt.figure(figsize=(12,6))\n",
    "\n",
    "plt.xlabel(\"z ($\\mu$m)\")\n",
    "plt.ylabel(\"Ez (V/m)\")\n",
    "plt.title(\"Comparison of $E_z$ on Parent and Child Grid\")\n",
    "\n",
    "scale = 1e6\n",
    "\n",
    "for xpos, c, cell in zip(x_positions, ['b', 'r', 'g'], [4, 6, 10]):\n",
    "    index = return_index(solverE.xmmin, solverE.xmmax, np.size(solverE.xmesh), xpos)\n",
    "    plt.plot(solverE.zmesh * scale, Ez[index, :], c=c, label='Parent Cell:' + '{}'.format(cell))\n",
    "\n",
    "for xpos, c, cell in zip(x_positions, ['b', 'r', 'g'], [4, 6, 10]):\n",
    "    index = return_index(child0.xmmin, child0.xmmax, np.size(child0.xmesh), xpos)\n",
    "    plt.plot(child0.zmesh * scale, child0_Ez[index, :], '--',c=c, label='Parent Cell:' + '{}'.format(cell))\n",
    "\n",
    "plt.xlim(9.80, 10.0)\n",
    "    \n",
    "plt.legend(loc='best', fontsize=10)\n",
    "\n",
    "plt.show()"
   ]
  },
  {
   "cell_type": "markdown",
   "metadata": {
    "collapsed": true
   },
   "source": [
    "# Interactive Field Plots"
   ]
  },
  {
   "cell_type": "code",
   "execution_count": 26,
   "metadata": {},
   "outputs": [
    {
     "data": {
      "text/plain": [
       "aW50ZXJhY3RpdmUoY2hpbGRyZW49KERyb3Bkb3duKGRlc2NyaXB0aW9uPXUnTGluZW91dCBBeGlzJywgb3B0aW9ucz1PcmRlcmVkRGljdChbKCd4JywgMCksICgneicsIDEpXSksIHZhbHVlPTDigKY=\n"
      ]
     },
     "metadata": {},
     "output_type": "display_data"
    }
   ],
   "source": [
    "# Lineout Axis: Axis the line intersects\n",
    "# Lineout Intercept: Position the line intersects\n",
    "# Field data: Choose to view Ex, Ez, or Potential along the line\n",
    "\n",
    "plot1 = FieldLineout(solverE, E, phi)\n",
    "plot1()"
   ]
  },
  {
   "cell_type": "code",
   "execution_count": null,
   "metadata": {},
   "outputs": [],
   "source": [
    ""
   ]
  }
 ],
 "metadata": {
  "kernelspec": {
   "display_name": "Python 2",
   "language": "python",
   "name": "python2"
  },
  "language_info": {
   "codemirror_mode": {
    "name": "ipython",
    "version": 2.0
   },
   "file_extension": ".py",
   "mimetype": "text/x-python",
   "name": "python",
   "nbconvert_exporter": "python",
   "pygments_lexer": "ipython2",
   "version": "2.7.13"
  },
  "widgets": {
   "state": {},
   "version": "1.1.2"
  }
 },
 "nbformat": 4,
 "nbformat_minor": 0
}