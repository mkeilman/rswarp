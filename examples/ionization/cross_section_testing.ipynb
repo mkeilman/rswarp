{
 "cells": [
  {
   "cell_type": "markdown",
   "metadata": {},
   "source": [
    "# Energy spectrum of emitted electrons from ionization events"
   ]
  },
  {
   "cell_type": "markdown",
   "metadata": {},
   "source": [
    "Directly calls rsoopic.h2crosssections.ejectedEnergy to check that the energy spectrum of emitted electrons looks OK"
   ]
  },
  {
   "cell_type": "code",
   "execution_count": 1,
   "metadata": {},
   "outputs": [
    {
     "name": "stdout",
     "output_type": "stream",
     "text": [
      "# Warp\n",
      "# Origin date: Mon, 2 Jul 2018 16:00:48 -0600\n",
      "# Local date: Mon, 2 Jul 2018 16:00:48 -0600\n",
      "# Commit hash: b464829\n",
      "# /home/vagrant/.pyenv/versions/py2/lib/python2.7/site-packages/warp/warp.pyc\n",
      "# /home/vagrant/.pyenv/versions/py2/lib/python2.7/site-packages/warp/warpC.so\n",
      "# Thu Sep 13 20:24:31 2018\n",
      "# import warp time 0.515947818756 seconds\n",
      "# For more help, type warphelp()\n"
     ]
    }
   ],
   "source": [
    "import sys\n",
    "import math\n",
    "import numpy as np\n",
    "import matplotlib.pyplot as plt\n",
    "from scipy.constants import c, e, m_e\n",
    "# Since PYTHONPATH is ignored, modify sys.path directly...\n",
    "#import rsoopic.h2crosssections as h2crosssections\n",
    "sys.path.insert(1, '/home/vagrant/jupyter/rsoopic/rsoopic')\n",
    "import h2crosssections"
   ]
  },
  {
   "cell_type": "code",
   "execution_count": 2,
   "metadata": {},
   "outputs": [
    {
     "name": "stdout",
     "output_type": "stream",
     "text": [
      "1000.0147600315081\n",
      "Spent 0.003 s generating ejected energies\n",
      "max. particle energy:  491.7435183671873  eV\n"
     ]
    },
    {
     "data": {
      "image/png": "[encoded data removed]",
      "text/plain": [
       "<Figure size 432x288 with 1 Axes>"
      ]
     },
     "metadata": {},
     "output_type": "display_data"
    }
   ],
   "source": [
    "#g = lambda v: math.sqrt(1./(1.-v*v/(c*c)))\n",
    "#for i in range(10):\n",
    "#    beta = 0.0624 + i * 1.e-5\n",
    "#    v = beta * c\n",
    "#    print i, beta, m_e * c * c * (g(v) - 1.) / e\n",
    "\n",
    "beta = 0.06247 # for 1keV kinetic energy\n",
    "n = 1000\n",
    "v = np.full((n), beta * c)\n",
    "\n",
    "energy = h2crosssections.ejectedEnergy(v, n)\n",
    "print 'max. particle energy: ', energy.max(), ' eV'\n",
    "\n",
    "#for i in range(100):\n",
    "#    print energy[i]\n",
    "\n",
    "plt.hist(energy, 100)\n",
    "plt.title('energy spectrum of emitted e- with 1 keV e- beam')\n",
    "plt.xlabel('energy (eV)')\n",
    "plt.ylabel('particle count')\n",
    "plt.savefig('emitted_energy_spectrum.png')\n",
    "plt.show()"
   ]
  },
  {
   "cell_type": "code",
   "execution_count": null,
   "metadata": {},
   "outputs": [],
   "source": []
  }
 ],
 "metadata": {
  "kernelspec": {
   "display_name": "Python 2",
   "language": "python",
   "name": "py2"
  },
  "language_info": {
   "codemirror_mode": {
    "name": "ipython",
    "version": 2
   },
   "file_extension": ".py",
   "mimetype": "text/x-python",
   "name": "python",
   "nbconvert_exporter": "python",
   "pygments_lexer": "ipython2",
   "version": "2.7.14"
  }
 },
 "nbformat": 4,
 "nbformat_minor": 2
}
