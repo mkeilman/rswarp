{
 "cells": [
  {
   "cell_type": "code",
   "execution_count": 8,
   "metadata": {},
   "outputs": [],
   "source": [
    "%matplotlib notebook"
   ]
  },
  {
   "cell_type": "code",
   "execution_count": 9,
   "metadata": {},
   "outputs": [],
   "source": [
    "import numpy as np\n",
    "import matplotlib.pyplot as plt\n",
    "from ipywidgets import interact, interactive, widgets\n",
    "\n",
    "from scipy.constants import h, c, k, e, m_e, physical_constants\n",
    "\n",
    "k_ev = physical_constants['Boltzmann constant in eV/K'][0]\n",
    "sigma_sb = physical_constants['Stefan-Boltzmann constant'][0]\n",
    "L = 2.44e-8"
   ]
  },
  {
   "cell_type": "code",
   "execution_count": 10,
   "metadata": {},
   "outputs": [],
   "source": [
    "def rd_current(phi, T):\n",
    "    \"\"\"\n",
    "    Thermionic emission current density in A/m**2\n",
    "    \"\"\"\n",
    "    A = 4 * np.pi * m_e * k**2 * e / h**3\n",
    "    \n",
    "    return A * T**2 * np.exp(-phi / (k_ev * T))"
   ]
  },
  {
   "cell_type": "code",
   "execution_count": 11,
   "metadata": {},
   "outputs": [],
   "source": [
    "import rswarp.run_files.tec.efficiency as eff"
   ]
  },
  {
   "cell_type": "code",
   "execution_count": 104,
   "metadata": {},
   "outputs": [],
   "source": [
    "eff.tec_parameters['A_em'][0] = 1.\n",
    "eff.tec_parameters['J_ec'][0] = rd_current(2.174, 1414 + 273.15) * 1e-4\n",
    "eff.tec_parameters['J_em'][0] = rd_current(2.174, 1414 + 273.15) * 1e-4\n",
    "eff.tec_parameters['phi_em'][0] = 2.174\n",
    "eff.tec_parameters['T_em'][0] = 1414 + 273.15\n",
    "eff.tec_parameters['phi_coll'][0] = 0.381\n",
    "eff.tec_parameters['T_coll'][0] = 50 + 273.15\n",
    "eff.tec_parameters['emiss_eff'][0] = 0.1\n",
    "eff.tec_parameters['T_env'][0] = 293.15\n",
    "# eff.tec_parametete['L_wire']\n",
    "# eff.tec_parametete['rho']\n",
    "# eff.tec_parametete['alpha']\n",
    "eff.tec_parameters['occlusion'][0] = 0.0\n",
    "eff.tec_parameters['J_grid'][0] = 0.0\n",
    "eff.tec_parameters['P_em'][0] = eff.tec_parameters['J_em'][0] * (eff.tec_parameters['phi_em'][0] + 2 * eff.tec_parameters['T_em'][0] * k_ev)\n",
    "eff.tec_parameters['rho_cw'][0] = 1.1984448e-03 #  eff.calculate_resistivity(1414 + 273.15, **eff.tec_parameters)# eff.calculate_resistivity(50 + 273.15, **eff.tec_parameters)\n",
    "eff.tec_parameters['rho_ew'][0] = 1.1984448e-03 # eff.calculate_resistivity(1414 + 273.15, **eff.tec_parameters)"
   ]
  },
  {
   "cell_type": "code",
   "execution_count": 105,
   "metadata": {},
   "outputs": [
    {
     "data": {
      "text/plain": [
       "0.0034190325715304803"
      ]
     },
     "execution_count": 105,
     "metadata": {},
     "output_type": "execute_result"
    }
   ],
   "source": [
    "eff.calculate_resistivity(1414 + 273.15, **eff.tec_parameters)"
   ]
  },
  {
   "cell_type": "code",
   "execution_count": 106,
   "metadata": {},
   "outputs": [
    {
     "name": "stdout",
     "output_type": "stream",
     "text": [
      "Power lost in wiring: 14.337950642791327\n",
      "Power lost to radiation: 4.58818644542\n",
      "Power carried away by electrons: 238.30189917231982\n",
      "Power produced in the load: 150.7626630298351\n"
     ]
    },
    {
     "data": {
      "text/plain": [
       "0.5861050965577262"
      ]
     },
     "execution_count": 106,
     "metadata": {},
     "output_type": "execute_result"
    }
   ],
   "source": [
    "eff.calculate_efficiency(**eff.tec_parameters)"
   ]
  },
  {
   "cell_type": "code",
   "execution_count": 107,
   "metadata": {},
   "outputs": [
    {
     "data": {
      "text/plain": [
       "{'A_em': [1.0, 'Emitter/Collector area (cm**2)'],\n",
       " 'J_ec': [109.6574419348554,\n",
       "  'Current from emitter that reaches collector (A/cm**2)'],\n",
       " 'J_em': [109.6574419348554, 'Emitter current density (A/cm**2)'],\n",
       " 'J_grid': [0.0, 'Grid current density (A/cm**2)'],\n",
       " 'L_wire': [100.0, 'Wire length for emitter/collector (cm)'],\n",
       " 'P_em': [270.28087498453965, 'Emitter electron power (W/cm**2)'],\n",
       " 'T_coll': [323.15, 'Collector temperature (K)'],\n",
       " 'T_em': [1687.15, 'Emitter temperature (K)'],\n",
       " 'T_env': [293.15, 'Ambient temperature (K)'],\n",
       " 'V_grid': [False, 'Bias on grid relative to the emitter (V)'],\n",
       " 'alpha': [0.0044, 'Temperature coefficient of resistance (1/K)'],\n",
       " 'emiss_eff': [0.1, 'Emissivity ()'],\n",
       " 'grid_height': [False,\n",
       "  'Position of the grid relative to emitter, normalized by collector position'],\n",
       " 'occlusion': [0.0, 'Fractional occlusion of collector by grid'],\n",
       " 'phi_coll': [0.381, 'Collector work function (eV)'],\n",
       " 'phi_em': [2.174, 'Emitter work function (eV)'],\n",
       " 'rho': [4.792857143e-06, 'Resistivity (Ohm*cm)'],\n",
       " 'rho_cw': [0.0011984448, 'Effective collector wiring resistivity (Ohms*cm)'],\n",
       " 'rho_ew': [0.0011984448, 'Effective e mitter wiring resistivity (Ohms*cm)'],\n",
       " 'run_time': [False, 'Simulation run time (s)'],\n",
       " 'strut_height': [False, 'Size of the strut along the z-axis'],\n",
       " 'strut_width': [False, 'Size of the strut parallel to intersecting axis (m)'],\n",
       " 'x_struts': [False, 'Number of struts that intersect the x-axis'],\n",
       " 'y_struts': [False, 'Number of struts that intersect the y-axis']}"
      ]
     },
     "execution_count": 107,
     "metadata": {},
     "output_type": "execute_result"
    }
   ],
   "source": [
    "eff.tec_parameters\n"
   ]
  },
  {
   "cell_type": "code",
   "execution_count": null,
   "metadata": {},
   "outputs": [],
   "source": []
  }
 ],
 "metadata": {
  "kernelspec": {
   "display_name": "Python 2",
   "language": "python",
   "name": "python2"
  },
  "language_info": {
   "codemirror_mode": {
    "name": "ipython",
    "version": 2
   },
   "file_extension": ".py",
   "mimetype": "text/x-python",
   "name": "python",
   "nbconvert_exporter": "python",
   "pygments_lexer": "ipython2",
   "version": "2.7.13"
  }
 },
 "nbformat": 4,
 "nbformat_minor": 2
}
